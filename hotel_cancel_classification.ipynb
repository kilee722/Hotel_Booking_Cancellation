{
 "cells": [
  {
   "cell_type": "code",
   "execution_count": 1,
   "metadata": {},
   "outputs": [],
   "source": [
    "import pandas as pd\n",
    "import numpy as np\n",
    "import seaborn as sns\n",
    "import matplotlib as plt\n",
    "import matplotlib.ticker as ticker\n",
    "import statsmodels.api as sm\n",
    "import random\n",
    "from scipy.stats import chi2_contingency\n",
    "import matplotlib.pyplot as plt\n",
    "%matplotlib inline"
   ]
  },
  {
   "cell_type": "code",
   "execution_count": 2,
   "metadata": {},
   "outputs": [],
   "source": [
    "df = pd.read_csv(\"hotel_bookings.csv\", low_memory = False)"
   ]
  },
  {
   "cell_type": "code",
   "execution_count": 3,
   "metadata": {},
   "outputs": [
    {
     "data": {
      "text/plain": [
       "(119390, 32)"
      ]
     },
     "execution_count": 3,
     "metadata": {},
     "output_type": "execute_result"
    }
   ],
   "source": [
    "df.shape"
   ]
  },
  {
   "cell_type": "code",
   "execution_count": 4,
   "metadata": {},
   "outputs": [
    {
     "data": {
      "text/html": [
       "<div>\n",
       "<style scoped>\n",
       "    .dataframe tbody tr th:only-of-type {\n",
       "        vertical-align: middle;\n",
       "    }\n",
       "\n",
       "    .dataframe tbody tr th {\n",
       "        vertical-align: top;\n",
       "    }\n",
       "\n",
       "    .dataframe thead th {\n",
       "        text-align: right;\n",
       "    }\n",
       "</style>\n",
       "<table border=\"1\" class=\"dataframe\">\n",
       "  <thead>\n",
       "    <tr style=\"text-align: right;\">\n",
       "      <th></th>\n",
       "      <th>hotel</th>\n",
       "      <th>is_canceled</th>\n",
       "      <th>lead_time</th>\n",
       "      <th>arrival_date_year</th>\n",
       "      <th>arrival_date_month</th>\n",
       "      <th>arrival_date_week_number</th>\n",
       "      <th>arrival_date_day_of_month</th>\n",
       "      <th>stays_in_weekend_nights</th>\n",
       "      <th>stays_in_week_nights</th>\n",
       "      <th>adults</th>\n",
       "      <th>...</th>\n",
       "      <th>deposit_type</th>\n",
       "      <th>agent</th>\n",
       "      <th>company</th>\n",
       "      <th>days_in_waiting_list</th>\n",
       "      <th>customer_type</th>\n",
       "      <th>adr</th>\n",
       "      <th>required_car_parking_spaces</th>\n",
       "      <th>total_of_special_requests</th>\n",
       "      <th>reservation_status</th>\n",
       "      <th>reservation_status_date</th>\n",
       "    </tr>\n",
       "  </thead>\n",
       "  <tbody>\n",
       "    <tr>\n",
       "      <th>0</th>\n",
       "      <td>Resort Hotel</td>\n",
       "      <td>0</td>\n",
       "      <td>342</td>\n",
       "      <td>2015</td>\n",
       "      <td>July</td>\n",
       "      <td>27</td>\n",
       "      <td>1</td>\n",
       "      <td>0</td>\n",
       "      <td>0</td>\n",
       "      <td>2</td>\n",
       "      <td>...</td>\n",
       "      <td>No Deposit</td>\n",
       "      <td>NaN</td>\n",
       "      <td>NaN</td>\n",
       "      <td>0</td>\n",
       "      <td>Transient</td>\n",
       "      <td>0.0</td>\n",
       "      <td>0</td>\n",
       "      <td>0</td>\n",
       "      <td>Check-Out</td>\n",
       "      <td>7/1/2015</td>\n",
       "    </tr>\n",
       "    <tr>\n",
       "      <th>1</th>\n",
       "      <td>Resort Hotel</td>\n",
       "      <td>0</td>\n",
       "      <td>737</td>\n",
       "      <td>2015</td>\n",
       "      <td>July</td>\n",
       "      <td>27</td>\n",
       "      <td>1</td>\n",
       "      <td>0</td>\n",
       "      <td>0</td>\n",
       "      <td>2</td>\n",
       "      <td>...</td>\n",
       "      <td>No Deposit</td>\n",
       "      <td>NaN</td>\n",
       "      <td>NaN</td>\n",
       "      <td>0</td>\n",
       "      <td>Transient</td>\n",
       "      <td>0.0</td>\n",
       "      <td>0</td>\n",
       "      <td>0</td>\n",
       "      <td>Check-Out</td>\n",
       "      <td>7/1/2015</td>\n",
       "    </tr>\n",
       "    <tr>\n",
       "      <th>2</th>\n",
       "      <td>Resort Hotel</td>\n",
       "      <td>0</td>\n",
       "      <td>7</td>\n",
       "      <td>2015</td>\n",
       "      <td>July</td>\n",
       "      <td>27</td>\n",
       "      <td>1</td>\n",
       "      <td>0</td>\n",
       "      <td>1</td>\n",
       "      <td>1</td>\n",
       "      <td>...</td>\n",
       "      <td>No Deposit</td>\n",
       "      <td>NaN</td>\n",
       "      <td>NaN</td>\n",
       "      <td>0</td>\n",
       "      <td>Transient</td>\n",
       "      <td>75.0</td>\n",
       "      <td>0</td>\n",
       "      <td>0</td>\n",
       "      <td>Check-Out</td>\n",
       "      <td>7/2/2015</td>\n",
       "    </tr>\n",
       "  </tbody>\n",
       "</table>\n",
       "<p>3 rows × 32 columns</p>\n",
       "</div>"
      ],
      "text/plain": [
       "          hotel  is_canceled  lead_time  arrival_date_year arrival_date_month  \\\n",
       "0  Resort Hotel            0        342               2015               July   \n",
       "1  Resort Hotel            0        737               2015               July   \n",
       "2  Resort Hotel            0          7               2015               July   \n",
       "\n",
       "   arrival_date_week_number  arrival_date_day_of_month  \\\n",
       "0                        27                          1   \n",
       "1                        27                          1   \n",
       "2                        27                          1   \n",
       "\n",
       "   stays_in_weekend_nights  stays_in_week_nights  adults  ...  deposit_type  \\\n",
       "0                        0                     0       2  ...    No Deposit   \n",
       "1                        0                     0       2  ...    No Deposit   \n",
       "2                        0                     1       1  ...    No Deposit   \n",
       "\n",
       "   agent company days_in_waiting_list customer_type   adr  \\\n",
       "0    NaN     NaN                    0     Transient   0.0   \n",
       "1    NaN     NaN                    0     Transient   0.0   \n",
       "2    NaN     NaN                    0     Transient  75.0   \n",
       "\n",
       "   required_car_parking_spaces  total_of_special_requests  reservation_status  \\\n",
       "0                            0                          0           Check-Out   \n",
       "1                            0                          0           Check-Out   \n",
       "2                            0                          0           Check-Out   \n",
       "\n",
       "  reservation_status_date  \n",
       "0                7/1/2015  \n",
       "1                7/1/2015  \n",
       "2                7/2/2015  \n",
       "\n",
       "[3 rows x 32 columns]"
      ]
     },
     "execution_count": 4,
     "metadata": {},
     "output_type": "execute_result"
    }
   ],
   "source": [
    "df.head(3)"
   ]
  },
  {
   "cell_type": "code",
   "execution_count": 5,
   "metadata": {},
   "outputs": [
    {
     "data": {
      "text/html": [
       "<div>\n",
       "<style scoped>\n",
       "    .dataframe tbody tr th:only-of-type {\n",
       "        vertical-align: middle;\n",
       "    }\n",
       "\n",
       "    .dataframe tbody tr th {\n",
       "        vertical-align: top;\n",
       "    }\n",
       "\n",
       "    .dataframe thead th {\n",
       "        text-align: right;\n",
       "    }\n",
       "</style>\n",
       "<table border=\"1\" class=\"dataframe\">\n",
       "  <thead>\n",
       "    <tr style=\"text-align: right;\">\n",
       "      <th></th>\n",
       "      <th>is_canceled</th>\n",
       "      <th>lead_time</th>\n",
       "      <th>arrival_date_year</th>\n",
       "      <th>arrival_date_week_number</th>\n",
       "      <th>arrival_date_day_of_month</th>\n",
       "      <th>stays_in_weekend_nights</th>\n",
       "      <th>stays_in_week_nights</th>\n",
       "      <th>adults</th>\n",
       "      <th>children</th>\n",
       "      <th>babies</th>\n",
       "      <th>is_repeated_guest</th>\n",
       "      <th>previous_cancellations</th>\n",
       "      <th>previous_bookings_not_canceled</th>\n",
       "      <th>booking_changes</th>\n",
       "      <th>agent</th>\n",
       "      <th>company</th>\n",
       "      <th>days_in_waiting_list</th>\n",
       "      <th>adr</th>\n",
       "      <th>required_car_parking_spaces</th>\n",
       "      <th>total_of_special_requests</th>\n",
       "    </tr>\n",
       "  </thead>\n",
       "  <tbody>\n",
       "    <tr>\n",
       "      <th>count</th>\n",
       "      <td>119390.000000</td>\n",
       "      <td>119390.000000</td>\n",
       "      <td>119390.000000</td>\n",
       "      <td>119390.000000</td>\n",
       "      <td>119390.000000</td>\n",
       "      <td>119390.000000</td>\n",
       "      <td>119390.000000</td>\n",
       "      <td>119390.000000</td>\n",
       "      <td>119386.000000</td>\n",
       "      <td>119390.000000</td>\n",
       "      <td>119390.000000</td>\n",
       "      <td>119390.000000</td>\n",
       "      <td>119390.000000</td>\n",
       "      <td>119390.000000</td>\n",
       "      <td>103050.000000</td>\n",
       "      <td>6797.000000</td>\n",
       "      <td>119390.000000</td>\n",
       "      <td>119390.000000</td>\n",
       "      <td>119390.000000</td>\n",
       "      <td>119390.000000</td>\n",
       "    </tr>\n",
       "    <tr>\n",
       "      <th>mean</th>\n",
       "      <td>0.370416</td>\n",
       "      <td>104.011416</td>\n",
       "      <td>2016.156554</td>\n",
       "      <td>27.165173</td>\n",
       "      <td>15.798241</td>\n",
       "      <td>0.927599</td>\n",
       "      <td>2.500302</td>\n",
       "      <td>1.856403</td>\n",
       "      <td>0.103890</td>\n",
       "      <td>0.007949</td>\n",
       "      <td>0.031912</td>\n",
       "      <td>0.087118</td>\n",
       "      <td>0.137097</td>\n",
       "      <td>0.221124</td>\n",
       "      <td>86.693382</td>\n",
       "      <td>189.266735</td>\n",
       "      <td>2.321149</td>\n",
       "      <td>101.831122</td>\n",
       "      <td>0.062518</td>\n",
       "      <td>0.571363</td>\n",
       "    </tr>\n",
       "    <tr>\n",
       "      <th>std</th>\n",
       "      <td>0.482918</td>\n",
       "      <td>106.863097</td>\n",
       "      <td>0.707476</td>\n",
       "      <td>13.605138</td>\n",
       "      <td>8.780829</td>\n",
       "      <td>0.998613</td>\n",
       "      <td>1.908286</td>\n",
       "      <td>0.579261</td>\n",
       "      <td>0.398561</td>\n",
       "      <td>0.097436</td>\n",
       "      <td>0.175767</td>\n",
       "      <td>0.844336</td>\n",
       "      <td>1.497437</td>\n",
       "      <td>0.652306</td>\n",
       "      <td>110.774548</td>\n",
       "      <td>131.655015</td>\n",
       "      <td>17.594721</td>\n",
       "      <td>50.535790</td>\n",
       "      <td>0.245291</td>\n",
       "      <td>0.792798</td>\n",
       "    </tr>\n",
       "    <tr>\n",
       "      <th>min</th>\n",
       "      <td>0.000000</td>\n",
       "      <td>0.000000</td>\n",
       "      <td>2015.000000</td>\n",
       "      <td>1.000000</td>\n",
       "      <td>1.000000</td>\n",
       "      <td>0.000000</td>\n",
       "      <td>0.000000</td>\n",
       "      <td>0.000000</td>\n",
       "      <td>0.000000</td>\n",
       "      <td>0.000000</td>\n",
       "      <td>0.000000</td>\n",
       "      <td>0.000000</td>\n",
       "      <td>0.000000</td>\n",
       "      <td>0.000000</td>\n",
       "      <td>1.000000</td>\n",
       "      <td>6.000000</td>\n",
       "      <td>0.000000</td>\n",
       "      <td>-6.380000</td>\n",
       "      <td>0.000000</td>\n",
       "      <td>0.000000</td>\n",
       "    </tr>\n",
       "    <tr>\n",
       "      <th>25%</th>\n",
       "      <td>0.000000</td>\n",
       "      <td>18.000000</td>\n",
       "      <td>2016.000000</td>\n",
       "      <td>16.000000</td>\n",
       "      <td>8.000000</td>\n",
       "      <td>0.000000</td>\n",
       "      <td>1.000000</td>\n",
       "      <td>2.000000</td>\n",
       "      <td>0.000000</td>\n",
       "      <td>0.000000</td>\n",
       "      <td>0.000000</td>\n",
       "      <td>0.000000</td>\n",
       "      <td>0.000000</td>\n",
       "      <td>0.000000</td>\n",
       "      <td>9.000000</td>\n",
       "      <td>62.000000</td>\n",
       "      <td>0.000000</td>\n",
       "      <td>69.290000</td>\n",
       "      <td>0.000000</td>\n",
       "      <td>0.000000</td>\n",
       "    </tr>\n",
       "    <tr>\n",
       "      <th>50%</th>\n",
       "      <td>0.000000</td>\n",
       "      <td>69.000000</td>\n",
       "      <td>2016.000000</td>\n",
       "      <td>28.000000</td>\n",
       "      <td>16.000000</td>\n",
       "      <td>1.000000</td>\n",
       "      <td>2.000000</td>\n",
       "      <td>2.000000</td>\n",
       "      <td>0.000000</td>\n",
       "      <td>0.000000</td>\n",
       "      <td>0.000000</td>\n",
       "      <td>0.000000</td>\n",
       "      <td>0.000000</td>\n",
       "      <td>0.000000</td>\n",
       "      <td>14.000000</td>\n",
       "      <td>179.000000</td>\n",
       "      <td>0.000000</td>\n",
       "      <td>94.575000</td>\n",
       "      <td>0.000000</td>\n",
       "      <td>0.000000</td>\n",
       "    </tr>\n",
       "    <tr>\n",
       "      <th>75%</th>\n",
       "      <td>1.000000</td>\n",
       "      <td>160.000000</td>\n",
       "      <td>2017.000000</td>\n",
       "      <td>38.000000</td>\n",
       "      <td>23.000000</td>\n",
       "      <td>2.000000</td>\n",
       "      <td>3.000000</td>\n",
       "      <td>2.000000</td>\n",
       "      <td>0.000000</td>\n",
       "      <td>0.000000</td>\n",
       "      <td>0.000000</td>\n",
       "      <td>0.000000</td>\n",
       "      <td>0.000000</td>\n",
       "      <td>0.000000</td>\n",
       "      <td>229.000000</td>\n",
       "      <td>270.000000</td>\n",
       "      <td>0.000000</td>\n",
       "      <td>126.000000</td>\n",
       "      <td>0.000000</td>\n",
       "      <td>1.000000</td>\n",
       "    </tr>\n",
       "    <tr>\n",
       "      <th>max</th>\n",
       "      <td>1.000000</td>\n",
       "      <td>737.000000</td>\n",
       "      <td>2017.000000</td>\n",
       "      <td>53.000000</td>\n",
       "      <td>31.000000</td>\n",
       "      <td>19.000000</td>\n",
       "      <td>50.000000</td>\n",
       "      <td>55.000000</td>\n",
       "      <td>10.000000</td>\n",
       "      <td>10.000000</td>\n",
       "      <td>1.000000</td>\n",
       "      <td>26.000000</td>\n",
       "      <td>72.000000</td>\n",
       "      <td>21.000000</td>\n",
       "      <td>535.000000</td>\n",
       "      <td>543.000000</td>\n",
       "      <td>391.000000</td>\n",
       "      <td>5400.000000</td>\n",
       "      <td>8.000000</td>\n",
       "      <td>5.000000</td>\n",
       "    </tr>\n",
       "  </tbody>\n",
       "</table>\n",
       "</div>"
      ],
      "text/plain": [
       "         is_canceled      lead_time  arrival_date_year  \\\n",
       "count  119390.000000  119390.000000      119390.000000   \n",
       "mean        0.370416     104.011416        2016.156554   \n",
       "std         0.482918     106.863097           0.707476   \n",
       "min         0.000000       0.000000        2015.000000   \n",
       "25%         0.000000      18.000000        2016.000000   \n",
       "50%         0.000000      69.000000        2016.000000   \n",
       "75%         1.000000     160.000000        2017.000000   \n",
       "max         1.000000     737.000000        2017.000000   \n",
       "\n",
       "       arrival_date_week_number  arrival_date_day_of_month  \\\n",
       "count             119390.000000              119390.000000   \n",
       "mean                  27.165173                  15.798241   \n",
       "std                   13.605138                   8.780829   \n",
       "min                    1.000000                   1.000000   \n",
       "25%                   16.000000                   8.000000   \n",
       "50%                   28.000000                  16.000000   \n",
       "75%                   38.000000                  23.000000   \n",
       "max                   53.000000                  31.000000   \n",
       "\n",
       "       stays_in_weekend_nights  stays_in_week_nights         adults  \\\n",
       "count            119390.000000         119390.000000  119390.000000   \n",
       "mean                  0.927599              2.500302       1.856403   \n",
       "std                   0.998613              1.908286       0.579261   \n",
       "min                   0.000000              0.000000       0.000000   \n",
       "25%                   0.000000              1.000000       2.000000   \n",
       "50%                   1.000000              2.000000       2.000000   \n",
       "75%                   2.000000              3.000000       2.000000   \n",
       "max                  19.000000             50.000000      55.000000   \n",
       "\n",
       "            children         babies  is_repeated_guest  \\\n",
       "count  119386.000000  119390.000000      119390.000000   \n",
       "mean        0.103890       0.007949           0.031912   \n",
       "std         0.398561       0.097436           0.175767   \n",
       "min         0.000000       0.000000           0.000000   \n",
       "25%         0.000000       0.000000           0.000000   \n",
       "50%         0.000000       0.000000           0.000000   \n",
       "75%         0.000000       0.000000           0.000000   \n",
       "max        10.000000      10.000000           1.000000   \n",
       "\n",
       "       previous_cancellations  previous_bookings_not_canceled  \\\n",
       "count           119390.000000                   119390.000000   \n",
       "mean                 0.087118                        0.137097   \n",
       "std                  0.844336                        1.497437   \n",
       "min                  0.000000                        0.000000   \n",
       "25%                  0.000000                        0.000000   \n",
       "50%                  0.000000                        0.000000   \n",
       "75%                  0.000000                        0.000000   \n",
       "max                 26.000000                       72.000000   \n",
       "\n",
       "       booking_changes          agent      company  days_in_waiting_list  \\\n",
       "count    119390.000000  103050.000000  6797.000000         119390.000000   \n",
       "mean          0.221124      86.693382   189.266735              2.321149   \n",
       "std           0.652306     110.774548   131.655015             17.594721   \n",
       "min           0.000000       1.000000     6.000000              0.000000   \n",
       "25%           0.000000       9.000000    62.000000              0.000000   \n",
       "50%           0.000000      14.000000   179.000000              0.000000   \n",
       "75%           0.000000     229.000000   270.000000              0.000000   \n",
       "max          21.000000     535.000000   543.000000            391.000000   \n",
       "\n",
       "                 adr  required_car_parking_spaces  total_of_special_requests  \n",
       "count  119390.000000                119390.000000              119390.000000  \n",
       "mean      101.831122                     0.062518                   0.571363  \n",
       "std        50.535790                     0.245291                   0.792798  \n",
       "min        -6.380000                     0.000000                   0.000000  \n",
       "25%        69.290000                     0.000000                   0.000000  \n",
       "50%        94.575000                     0.000000                   0.000000  \n",
       "75%       126.000000                     0.000000                   1.000000  \n",
       "max      5400.000000                     8.000000                   5.000000  "
      ]
     },
     "execution_count": 5,
     "metadata": {},
     "output_type": "execute_result"
    }
   ],
   "source": [
    "df.describe()"
   ]
  },
  {
   "cell_type": "code",
   "execution_count": 6,
   "metadata": {},
   "outputs": [],
   "source": [
    "def cnt(xname, df):\n",
    "    sns.countplot(x=xname, data = df)"
   ]
  },
  {
   "cell_type": "code",
   "execution_count": 7,
   "metadata": {},
   "outputs": [
    {
     "data": {
      "image/png": "[encoded data removed]",
      "text/plain": [
       "<Figure size 432x288 with 1 Axes>"
      ]
     },
     "metadata": {
      "needs_background": "light"
     },
     "output_type": "display_data"
    }
   ],
   "source": [
    "cnt('hotel', df)"
   ]
  },
  {
   "cell_type": "code",
   "execution_count": 8,
   "metadata": {},
   "outputs": [
    {
     "data": {
      "image/png": "[encoded data removed]",
      "text/plain": [
       "<Figure size 432x288 with 1 Axes>"
      ]
     },
     "metadata": {
      "needs_background": "light"
     },
     "output_type": "display_data"
    }
   ],
   "source": [
    "cnt('is_canceled' , df)"
   ]
  },
  {
   "cell_type": "code",
   "execution_count": 9,
   "metadata": {},
   "outputs": [
    {
     "data": {
      "text/plain": [
       "<AxesSubplot:xlabel='lead_time'>"
      ]
     },
     "execution_count": 9,
     "metadata": {},
     "output_type": "execute_result"
    },
    {
     "data": {
      "image/png": "[encoded data removed]",
      "text/plain": [
       "<Figure size 432x288 with 1 Axes>"
      ]
     },
     "metadata": {
      "needs_background": "light"
     },
     "output_type": "display_data"
    }
   ],
   "source": [
    "sns.boxplot(x = 'lead_time' ,data= df)"
   ]
  },
  {
   "cell_type": "code",
   "execution_count": 10,
   "metadata": {},
   "outputs": [
    {
     "data": {
      "image/png": "[encoded data removed]",
      "text/plain": [
       "<Figure size 432x288 with 1 Axes>"
      ]
     },
     "metadata": {
      "needs_background": "light"
     },
     "output_type": "display_data"
    }
   ],
   "source": [
    "cnt('arrival_date_year' , df)"
   ]
  },
  {
   "cell_type": "code",
   "execution_count": 11,
   "metadata": {},
   "outputs": [
    {
     "data": {
      "text/plain": [
       "<AxesSubplot:xlabel='arrival_date_week_number'>"
      ]
     },
     "execution_count": 11,
     "metadata": {},
     "output_type": "execute_result"
    },
    {
     "data": {
      "image/png": "[encoded data removed]",
      "text/plain": [
       "<Figure size 432x288 with 1 Axes>"
      ]
     },
     "metadata": {
      "needs_background": "light"
     },
     "output_type": "display_data"
    }
   ],
   "source": [
    "sns.boxplot(x='arrival_date_week_number' ,data= df)"
   ]
  },
  {
   "cell_type": "code",
   "execution_count": 12,
   "metadata": {},
   "outputs": [
    {
     "data": {
      "image/png": "[encoded data removed]",
      "text/plain": [
       "<Figure size 432x288 with 1 Axes>"
      ]
     },
     "metadata": {
      "needs_background": "light"
     },
     "output_type": "display_data"
    }
   ],
   "source": [
    "cnt('arrival_date_week_number' , df)"
   ]
  },
  {
   "cell_type": "code",
   "execution_count": 13,
   "metadata": {},
   "outputs": [
    {
     "data": {
      "image/png": "[encoded data removed]",
      "text/plain": [
       "<Figure size 432x288 with 1 Axes>"
      ]
     },
     "metadata": {
      "needs_background": "light"
     },
     "output_type": "display_data"
    }
   ],
   "source": [
    "cnt('arrival_date_day_of_month' , df)"
   ]
  },
  {
   "cell_type": "code",
   "execution_count": 14,
   "metadata": {},
   "outputs": [
    {
     "data": {
      "image/png": "[encoded data removed]",
      "text/plain": [
       "<Figure size 432x288 with 1 Axes>"
      ]
     },
     "metadata": {
      "needs_background": "light"
     },
     "output_type": "display_data"
    }
   ],
   "source": [
    "cnt('stays_in_weekend_nights' , df)"
   ]
  },
  {
   "cell_type": "code",
   "execution_count": 15,
   "metadata": {},
   "outputs": [
    {
     "data": {
      "image/png": "[encoded data removed]",
      "text/plain": [
       "<Figure size 432x288 with 1 Axes>"
      ]
     },
     "metadata": {
      "needs_background": "light"
     },
     "output_type": "display_data"
    }
   ],
   "source": [
    "cnt('stays_in_week_nights' , df)"
   ]
  },
  {
   "cell_type": "code",
   "execution_count": 16,
   "metadata": {},
   "outputs": [
    {
     "data": {
      "image/png": "[encoded data removed]",
      "text/plain": [
       "<Figure size 432x288 with 1 Axes>"
      ]
     },
     "metadata": {
      "needs_background": "light"
     },
     "output_type": "display_data"
    }
   ],
   "source": [
    "cnt('adults' , df)"
   ]
  },
  {
   "cell_type": "code",
   "execution_count": 17,
   "metadata": {},
   "outputs": [
    {
     "data": {
      "image/png": "[encoded data removed]",
      "text/plain": [
       "<Figure size 432x288 with 1 Axes>"
      ]
     },
     "metadata": {
      "needs_background": "light"
     },
     "output_type": "display_data"
    }
   ],
   "source": [
    "cnt('children' , df)"
   ]
  },
  {
   "cell_type": "code",
   "execution_count": 18,
   "metadata": {},
   "outputs": [
    {
     "data": {
      "image/png": "[encoded data removed]",
      "text/plain": [
       "<Figure size 432x288 with 1 Axes>"
      ]
     },
     "metadata": {
      "needs_background": "light"
     },
     "output_type": "display_data"
    }
   ],
   "source": [
    "cnt('babies' , df)"
   ]
  },
  {
   "cell_type": "code",
   "execution_count": 19,
   "metadata": {},
   "outputs": [
    {
     "data": {
      "image/png": "[encoded data removed]",
      "text/plain": [
       "<Figure size 432x288 with 1 Axes>"
      ]
     },
     "metadata": {
      "needs_background": "light"
     },
     "output_type": "display_data"
    }
   ],
   "source": [
    "cnt('meal' , df)"
   ]
  },
  {
   "cell_type": "code",
   "execution_count": 20,
   "metadata": {},
   "outputs": [],
   "source": [
    "# cnt('country' , df)"
   ]
  },
  {
   "cell_type": "code",
   "execution_count": 21,
   "metadata": {},
   "outputs": [
    {
     "data": {
      "image/png": "[encoded data removed]",
      "text/plain": [
       "<Figure size 432x288 with 1 Axes>"
      ]
     },
     "metadata": {
      "needs_background": "light"
     },
     "output_type": "display_data"
    }
   ],
   "source": [
    "cnt('market_segment' , df)"
   ]
  },
  {
   "cell_type": "code",
   "execution_count": 22,
   "metadata": {},
   "outputs": [
    {
     "data": {
      "image/png": "[encoded data removed]",
      "text/plain": [
       "<Figure size 432x288 with 1 Axes>"
      ]
     },
     "metadata": {
      "needs_background": "light"
     },
     "output_type": "display_data"
    }
   ],
   "source": [
    "cnt('distribution_channel' , df)"
   ]
  },
  {
   "cell_type": "code",
   "execution_count": 23,
   "metadata": {},
   "outputs": [
    {
     "data": {
      "image/png": "[encoded data removed]",
      "text/plain": [
       "<Figure size 432x288 with 1 Axes>"
      ]
     },
     "metadata": {
      "needs_background": "light"
     },
     "output_type": "display_data"
    }
   ],
   "source": [
    "cnt('is_repeated_guest' , df)"
   ]
  },
  {
   "cell_type": "code",
   "execution_count": 24,
   "metadata": {},
   "outputs": [
    {
     "data": {
      "image/png": "[encoded data removed]",
      "text/plain": [
       "<Figure size 432x288 with 1 Axes>"
      ]
     },
     "metadata": {
      "needs_background": "light"
     },
     "output_type": "display_data"
    }
   ],
   "source": [
    "cnt('previous_cancellations' , df)"
   ]
  },
  {
   "cell_type": "code",
   "execution_count": 25,
   "metadata": {},
   "outputs": [
    {
     "data": {
      "image/png": "[encoded data removed]",
      "text/plain": [
       "<Figure size 432x288 with 1 Axes>"
      ]
     },
     "metadata": {
      "needs_background": "light"
     },
     "output_type": "display_data"
    }
   ],
   "source": [
    "cnt('previous_bookings_not_canceled' , df)"
   ]
  },
  {
   "cell_type": "code",
   "execution_count": 26,
   "metadata": {},
   "outputs": [
    {
     "data": {
      "image/png": "[encoded data removed]",
      "text/plain": [
       "<Figure size 432x288 with 1 Axes>"
      ]
     },
     "metadata": {
      "needs_background": "light"
     },
     "output_type": "display_data"
    }
   ],
   "source": [
    "cnt('reserved_room_type' , df)"
   ]
  },
  {
   "cell_type": "code",
   "execution_count": 27,
   "metadata": {},
   "outputs": [
    {
     "data": {
      "image/png": "[encoded data removed]",
      "text/plain": [
       "<Figure size 432x288 with 1 Axes>"
      ]
     },
     "metadata": {
      "needs_background": "light"
     },
     "output_type": "display_data"
    }
   ],
   "source": [
    "cnt('assigned_room_type' , df)"
   ]
  },
  {
   "cell_type": "code",
   "execution_count": 28,
   "metadata": {},
   "outputs": [
    {
     "data": {
      "image/png": "[encoded data removed]",
      "text/plain": [
       "<Figure size 432x288 with 1 Axes>"
      ]
     },
     "metadata": {
      "needs_background": "light"
     },
     "output_type": "display_data"
    }
   ],
   "source": [
    "cnt('deposit_type' , df)"
   ]
  },
  {
   "cell_type": "code",
   "execution_count": 29,
   "metadata": {},
   "outputs": [
    {
     "data": {
      "image/png": "[encoded data removed]",
      "text/plain": [
       "<Figure size 432x288 with 1 Axes>"
      ]
     },
     "metadata": {
      "needs_background": "light"
     },
     "output_type": "display_data"
    }
   ],
   "source": [
    "cnt('agent' , df)"
   ]
  },
  {
   "cell_type": "code",
   "execution_count": 30,
   "metadata": {},
   "outputs": [
    {
     "data": {
      "image/png": "[encoded data removed]",
      "text/plain": [
       "<Figure size 432x288 with 1 Axes>"
      ]
     },
     "metadata": {
      "needs_background": "light"
     },
     "output_type": "display_data"
    }
   ],
   "source": [
    "cnt('days_in_waiting_list' , df)"
   ]
  },
  {
   "cell_type": "code",
   "execution_count": 31,
   "metadata": {},
   "outputs": [
    {
     "data": {
      "text/plain": [
       "<AxesSubplot:xlabel='days_in_waiting_list'>"
      ]
     },
     "execution_count": 31,
     "metadata": {},
     "output_type": "execute_result"
    },
    {
     "data": {
      "image/png": "[encoded data removed]",
      "text/plain": [
       "<Figure size 432x288 with 1 Axes>"
      ]
     },
     "metadata": {
      "needs_background": "light"
     },
     "output_type": "display_data"
    }
   ],
   "source": [
    "sns.boxplot(x='days_in_waiting_list' ,data= df)"
   ]
  },
  {
   "cell_type": "code",
   "execution_count": 32,
   "metadata": {},
   "outputs": [
    {
     "data": {
      "image/png": "[encoded data removed]",
      "text/plain": [
       "<Figure size 432x288 with 1 Axes>"
      ]
     },
     "metadata": {
      "needs_background": "light"
     },
     "output_type": "display_data"
    }
   ],
   "source": [
    "cnt('customer_type' , df)"
   ]
  },
  {
   "cell_type": "code",
   "execution_count": 33,
   "metadata": {},
   "outputs": [
    {
     "data": {
      "text/plain": [
       "(119390, 32)"
      ]
     },
     "execution_count": 33,
     "metadata": {},
     "output_type": "execute_result"
    }
   ],
   "source": [
    "df.shape"
   ]
  },
  {
   "cell_type": "code",
   "execution_count": 34,
   "metadata": {},
   "outputs": [
    {
     "data": {
      "text/plain": [
       "0     0.0\n",
       "1     0.0\n",
       "2    75.0\n",
       "Name: adr, dtype: float64"
      ]
     },
     "execution_count": 34,
     "metadata": {},
     "output_type": "execute_result"
    }
   ],
   "source": [
    "df['adr'].head(3)"
   ]
  },
  {
   "cell_type": "code",
   "execution_count": 35,
   "metadata": {},
   "outputs": [],
   "source": [
    "df = df[df.adr < 5000]"
   ]
  },
  {
   "cell_type": "code",
   "execution_count": 36,
   "metadata": {},
   "outputs": [
    {
     "data": {
      "text/plain": [
       "0     0.0\n",
       "1     0.0\n",
       "2    75.0\n",
       "Name: adr, dtype: float64"
      ]
     },
     "execution_count": 36,
     "metadata": {},
     "output_type": "execute_result"
    }
   ],
   "source": [
    "df['adr'].head(3)"
   ]
  },
  {
   "cell_type": "code",
   "execution_count": 37,
   "metadata": {},
   "outputs": [
    {
     "data": {
      "text/plain": [
       "<AxesSubplot:xlabel='adr'>"
      ]
     },
     "execution_count": 37,
     "metadata": {},
     "output_type": "execute_result"
    },
    {
     "data": {
      "image/png": "[encoded data removed]",
      "text/plain": [
       "<Figure size 432x288 with 1 Axes>"
      ]
     },
     "metadata": {
      "needs_background": "light"
     },
     "output_type": "display_data"
    }
   ],
   "source": [
    "sns.boxplot(x='adr' ,data= df)"
   ]
  },
  {
   "cell_type": "code",
   "execution_count": 38,
   "metadata": {},
   "outputs": [
    {
     "data": {
      "image/png": "[encoded data removed]",
      "text/plain": [
       "<Figure size 432x288 with 1 Axes>"
      ]
     },
     "metadata": {
      "needs_background": "light"
     },
     "output_type": "display_data"
    }
   ],
   "source": [
    "cnt('required_car_parking_spaces' , df)"
   ]
  },
  {
   "cell_type": "code",
   "execution_count": 39,
   "metadata": {},
   "outputs": [
    {
     "data": {
      "image/png": "[encoded data removed]",
      "text/plain": [
       "<Figure size 432x288 with 1 Axes>"
      ]
     },
     "metadata": {
      "needs_background": "light"
     },
     "output_type": "display_data"
    }
   ],
   "source": [
    "cnt('total_of_special_requests' , df)"
   ]
  },
  {
   "cell_type": "code",
   "execution_count": 40,
   "metadata": {},
   "outputs": [
    {
     "data": {
      "image/png": "[encoded data removed]",
      "text/plain": [
       "<Figure size 432x288 with 1 Axes>"
      ]
     },
     "metadata": {
      "needs_background": "light"
     },
     "output_type": "display_data"
    }
   ],
   "source": [
    "cnt('reservation_status' , df)"
   ]
  },
  {
   "cell_type": "code",
   "execution_count": 41,
   "metadata": {},
   "outputs": [],
   "source": [
    "# cnt('reservation_status_date' , df)"
   ]
  },
  {
   "cell_type": "code",
   "execution_count": 42,
   "metadata": {},
   "outputs": [
    {
     "data": {
      "image/png": "[encoded data removed]",
      "text/plain": [
       "<Figure size 432x288 with 1 Axes>"
      ]
     },
     "metadata": {
      "needs_background": "light"
     },
     "output_type": "display_data"
    }
   ],
   "source": [
    "ax = sns.lineplot(x = df['reservation_status_date'].value_counts().index, y = df['reservation_status_date'].value_counts(), data =df)\n",
    "tick_locator = ticker.MaxNLocator(5)\n",
    "ax.xaxis.set_major_locator(tick_locator)"
   ]
  },
  {
   "cell_type": "code",
   "execution_count": 43,
   "metadata": {},
   "outputs": [
    {
     "name": "stdout",
     "output_type": "stream",
     "text": [
      "<class 'pandas.core.frame.DataFrame'>\n",
      "Int64Index: 119389 entries, 0 to 119389\n",
      "Data columns (total 32 columns):\n",
      " #   Column                          Non-Null Count   Dtype  \n",
      "---  ------                          --------------   -----  \n",
      " 0   hotel                           119389 non-null  object \n",
      " 1   is_canceled                     119389 non-null  int64  \n",
      " 2   lead_time                       119389 non-null  int64  \n",
      " 3   arrival_date_year               119389 non-null  int64  \n",
      " 4   arrival_date_month              119389 non-null  object \n",
      " 5   arrival_date_week_number        119389 non-null  int64  \n",
      " 6   arrival_date_day_of_month       119389 non-null  int64  \n",
      " 7   stays_in_weekend_nights         119389 non-null  int64  \n",
      " 8   stays_in_week_nights            119389 non-null  int64  \n",
      " 9   adults                          119389 non-null  int64  \n",
      " 10  children                        119385 non-null  float64\n",
      " 11  babies                          119389 non-null  int64  \n",
      " 12  meal                            119389 non-null  object \n",
      " 13  country                         118901 non-null  object \n",
      " 14  market_segment                  119389 non-null  object \n",
      " 15  distribution_channel            119389 non-null  object \n",
      " 16  is_repeated_guest               119389 non-null  int64  \n",
      " 17  previous_cancellations          119389 non-null  int64  \n",
      " 18  previous_bookings_not_canceled  119389 non-null  int64  \n",
      " 19  reserved_room_type              119389 non-null  object \n",
      " 20  assigned_room_type              119389 non-null  object \n",
      " 21  booking_changes                 119389 non-null  int64  \n",
      " 22  deposit_type                    119389 non-null  object \n",
      " 23  agent                           103049 non-null  float64\n",
      " 24  company                         6797 non-null    float64\n",
      " 25  days_in_waiting_list            119389 non-null  int64  \n",
      " 26  customer_type                   119389 non-null  object \n",
      " 27  adr                             119389 non-null  float64\n",
      " 28  required_car_parking_spaces     119389 non-null  int64  \n",
      " 29  total_of_special_requests       119389 non-null  int64  \n",
      " 30  reservation_status              119389 non-null  object \n",
      " 31  reservation_status_date         119389 non-null  object \n",
      "dtypes: float64(4), int64(16), object(12)\n",
      "memory usage: 35.1+ MB\n"
     ]
    }
   ],
   "source": [
    "df.info()"
   ]
  },
  {
   "cell_type": "markdown",
   "metadata": {},
   "source": [
    "### Deal with Null values"
   ]
  },
  {
   "cell_type": "code",
   "execution_count": 44,
   "metadata": {},
   "outputs": [],
   "source": [
    "# Drop company col\n",
    "df1 = df.drop([\"company\"], axis = 1)"
   ]
  },
  {
   "cell_type": "code",
   "execution_count": 45,
   "metadata": {},
   "outputs": [
    {
     "data": {
      "text/plain": [
       "hotel                                  0\n",
       "is_canceled                            0\n",
       "lead_time                              0\n",
       "arrival_date_year                      0\n",
       "arrival_date_month                     0\n",
       "arrival_date_week_number               0\n",
       "arrival_date_day_of_month              0\n",
       "stays_in_weekend_nights                0\n",
       "stays_in_week_nights                   0\n",
       "adults                                 0\n",
       "children                               4\n",
       "babies                                 0\n",
       "meal                                   0\n",
       "country                              488\n",
       "market_segment                         0\n",
       "distribution_channel                   0\n",
       "is_repeated_guest                      0\n",
       "previous_cancellations                 0\n",
       "previous_bookings_not_canceled         0\n",
       "reserved_room_type                     0\n",
       "assigned_room_type                     0\n",
       "booking_changes                        0\n",
       "deposit_type                           0\n",
       "agent                              16340\n",
       "company                           112592\n",
       "days_in_waiting_list                   0\n",
       "customer_type                          0\n",
       "adr                                    0\n",
       "required_car_parking_spaces            0\n",
       "total_of_special_requests              0\n",
       "reservation_status                     0\n",
       "reservation_status_date                0\n",
       "dtype: int64"
      ]
     },
     "execution_count": 45,
     "metadata": {},
     "output_type": "execute_result"
    }
   ],
   "source": [
    "df.isnull().sum()"
   ]
  },
  {
   "cell_type": "code",
   "execution_count": 46,
   "metadata": {},
   "outputs": [],
   "source": [
    "# drop all na\n",
    "df1 = df1.dropna(axis =0)"
   ]
  },
  {
   "cell_type": "markdown",
   "metadata": {},
   "source": [
    "### Boxplot analysis and deal with outliers using IQR method"
   ]
  },
  {
   "cell_type": "code",
   "execution_count": 47,
   "metadata": {},
   "outputs": [
    {
     "data": {
      "text/plain": [
       "hotel                              object\n",
       "is_canceled                         int64\n",
       "lead_time                           int64\n",
       "arrival_date_year                   int64\n",
       "arrival_date_month                 object\n",
       "arrival_date_week_number            int64\n",
       "arrival_date_day_of_month           int64\n",
       "stays_in_weekend_nights             int64\n",
       "stays_in_week_nights                int64\n",
       "adults                              int64\n",
       "children                          float64\n",
       "babies                              int64\n",
       "meal                               object\n",
       "country                            object\n",
       "market_segment                     object\n",
       "distribution_channel               object\n",
       "is_repeated_guest                   int64\n",
       "previous_cancellations              int64\n",
       "previous_bookings_not_canceled      int64\n",
       "reserved_room_type                 object\n",
       "assigned_room_type                 object\n",
       "booking_changes                     int64\n",
       "deposit_type                       object\n",
       "agent                             float64\n",
       "days_in_waiting_list                int64\n",
       "customer_type                      object\n",
       "adr                               float64\n",
       "required_car_parking_spaces         int64\n",
       "total_of_special_requests           int64\n",
       "reservation_status                 object\n",
       "reservation_status_date            object\n",
       "dtype: object"
      ]
     },
     "execution_count": 47,
     "metadata": {},
     "output_type": "execute_result"
    }
   ],
   "source": [
    "df1.dtypes"
   ]
  },
  {
   "cell_type": "code",
   "execution_count": 48,
   "metadata": {},
   "outputs": [],
   "source": [
    "# This function takes a pandas Series and returns a tuple of\n",
    "# upper and lower boundary using the boxplot.\n",
    "\n",
    "def whiskers (c):\n",
    "    c_desc = c.describe()\n",
    "    q1 = c_desc['25%']\n",
    "    q3 = c_desc['75%']\n",
    "    iqr = q3 - q1 #interquartile range\n",
    "    upper = q3 + 1.5 * iqr\n",
    "    lower = q1 - 1.5 * iqr\n",
    "    return{'upper': upper,'lower': lower}\n"
   ]
  },
  {
   "cell_type": "code",
   "execution_count": 49,
   "metadata": {},
   "outputs": [],
   "source": [
    "# This function takes a DataFrame and returns a DataFrame containing\n",
    "# the number of outliers above and below the upper and lower boundary, respectively\n",
    "# for each column.\n",
    "\n",
    "def num_outliers(df):\n",
    "    cols = ['ColName','Upper outliers','Lower outliers','Outlier Ratio']\n",
    "    outlier_table = pd.DataFrame(columns=cols)\n",
    "        \n",
    "    for c in df.columns:\n",
    "        s = df[c]\n",
    "        n_upper = s[s>whiskers(s)['upper']].count()\n",
    "        n_lower = s[s < whiskers(s)['lower']].count()\n",
    "        ratio = (n_upper + n_lower)/len(df[c])\n",
    "        outlier_row = pd.DataFrame([[c,n_upper,n_lower,ratio]],columns=cols)\n",
    "        outlier_table = pd.concat([outlier_table, outlier_row], axis=0,ignore_index=True)\n",
    "    return outlier_table\n"
   ]
  },
  {
   "cell_type": "code",
   "execution_count": 50,
   "metadata": {},
   "outputs": [],
   "source": [
    "# This takes a DataFrame and returns a DataFrame after removing the outliers.\n",
    "def delete_outliers(df):\n",
    "    for c in df.columns:\n",
    "        s = df[c]\n",
    "        if s[s>whiskers(s)['upper']].count() > 0:\n",
    "            df = df.drop (df[df[c]> whiskers(s)['upper']].index)\n",
    "        if s[s>whiskers(s)['lower']].count() > 0:\n",
    "            df = df.drop (df[df[c] < whiskers(s)['lower']].index)\n",
    "    return df\n"
   ]
  },
  {
   "cell_type": "code",
   "execution_count": 51,
   "metadata": {},
   "outputs": [],
   "source": [
    "df_dummy = df1"
   ]
  },
  {
   "cell_type": "code",
   "execution_count": 52,
   "metadata": {},
   "outputs": [
    {
     "data": {
      "text/plain": [
       "hotel                              object\n",
       "is_canceled                         int64\n",
       "lead_time                           int64\n",
       "arrival_date_year                   int64\n",
       "arrival_date_month                 object\n",
       "arrival_date_week_number            int64\n",
       "arrival_date_day_of_month           int64\n",
       "stays_in_weekend_nights             int64\n",
       "stays_in_week_nights                int64\n",
       "adults                              int64\n",
       "children                          float64\n",
       "babies                              int64\n",
       "meal                               object\n",
       "country                            object\n",
       "market_segment                     object\n",
       "distribution_channel               object\n",
       "is_repeated_guest                   int64\n",
       "previous_cancellations              int64\n",
       "previous_bookings_not_canceled      int64\n",
       "reserved_room_type                 object\n",
       "assigned_room_type                 object\n",
       "booking_changes                     int64\n",
       "deposit_type                       object\n",
       "agent                             float64\n",
       "days_in_waiting_list                int64\n",
       "customer_type                      object\n",
       "adr                               float64\n",
       "required_car_parking_spaces         int64\n",
       "total_of_special_requests           int64\n",
       "reservation_status                 object\n",
       "reservation_status_date            object\n",
       "dtype: object"
      ]
     },
     "execution_count": 52,
     "metadata": {},
     "output_type": "execute_result"
    }
   ],
   "source": [
    "df_dummy.dtypes"
   ]
  },
  {
   "cell_type": "code",
   "execution_count": 53,
   "metadata": {},
   "outputs": [
    {
     "data": {
      "text/plain": [
       "Index(['hotel', 'is_canceled', 'lead_time', 'arrival_date_year',\n",
       "       'arrival_date_month', 'arrival_date_week_number',\n",
       "       'arrival_date_day_of_month', 'stays_in_weekend_nights',\n",
       "       'stays_in_week_nights', 'adults', 'children', 'babies', 'meal',\n",
       "       'country', 'market_segment', 'distribution_channel',\n",
       "       'is_repeated_guest', 'previous_cancellations',\n",
       "       'previous_bookings_not_canceled', 'reserved_room_type',\n",
       "       'assigned_room_type', 'booking_changes', 'deposit_type', 'agent',\n",
       "       'days_in_waiting_list', 'customer_type', 'adr',\n",
       "       'required_car_parking_spaces', 'total_of_special_requests',\n",
       "       'reservation_status', 'reservation_status_date'],\n",
       "      dtype='object')"
      ]
     },
     "execution_count": 53,
     "metadata": {},
     "output_type": "execute_result"
    }
   ],
   "source": [
    "df_dummy.columns"
   ]
  },
  {
   "cell_type": "code",
   "execution_count": 54,
   "metadata": {},
   "outputs": [],
   "source": [
    "# filter for numeric columns for boxplot analysis\n",
    "df_num = df_dummy[['lead_time', \n",
    "       'stays_in_weekend_nights', 'stays_in_week_nights', 'adults', 'children',\n",
    "       'babies', \n",
    "       'is_repeated_guest', 'previous_cancellations',\n",
    "       'previous_bookings_not_canceled','booking_changes',\n",
    "       'days_in_waiting_list', \n",
    "       'required_car_parking_spaces', 'total_of_special_requests',\n",
    "       'reservation_status_date']]"
   ]
  },
  {
   "cell_type": "code",
   "execution_count": 55,
   "metadata": {},
   "outputs": [
    {
     "data": {
      "image/png": "[encoded data removed]",
      "text/plain": [
       "<Figure size 432x288 with 1 Axes>"
      ]
     },
     "metadata": {
      "needs_background": "light"
     },
     "output_type": "display_data"
    }
   ],
   "source": [
    "cnt(\"children\",df_num )"
   ]
  },
  {
   "cell_type": "code",
   "execution_count": 56,
   "metadata": {},
   "outputs": [
    {
     "data": {
      "text/plain": [
       "lead_time                           int64\n",
       "stays_in_weekend_nights             int64\n",
       "stays_in_week_nights                int64\n",
       "adults                              int64\n",
       "children                          float64\n",
       "babies                              int64\n",
       "is_repeated_guest                   int64\n",
       "previous_cancellations              int64\n",
       "previous_bookings_not_canceled      int64\n",
       "booking_changes                     int64\n",
       "days_in_waiting_list                int64\n",
       "required_car_parking_spaces         int64\n",
       "total_of_special_requests           int64\n",
       "reservation_status_date            object\n",
       "dtype: object"
      ]
     },
     "execution_count": 56,
     "metadata": {},
     "output_type": "execute_result"
    }
   ],
   "source": [
    "df_num.dtypes"
   ]
  },
  {
   "cell_type": "code",
   "execution_count": 57,
   "metadata": {},
   "outputs": [
    {
     "data": {
      "text/html": [
       "<div>\n",
       "<style scoped>\n",
       "    .dataframe tbody tr th:only-of-type {\n",
       "        vertical-align: middle;\n",
       "    }\n",
       "\n",
       "    .dataframe tbody tr th {\n",
       "        vertical-align: top;\n",
       "    }\n",
       "\n",
       "    .dataframe thead th {\n",
       "        text-align: right;\n",
       "    }\n",
       "</style>\n",
       "<table border=\"1\" class=\"dataframe\">\n",
       "  <thead>\n",
       "    <tr style=\"text-align: right;\">\n",
       "      <th></th>\n",
       "      <th>lead_time</th>\n",
       "      <th>stays_in_weekend_nights</th>\n",
       "      <th>stays_in_week_nights</th>\n",
       "      <th>adults</th>\n",
       "      <th>children</th>\n",
       "      <th>babies</th>\n",
       "      <th>is_repeated_guest</th>\n",
       "      <th>previous_cancellations</th>\n",
       "      <th>previous_bookings_not_canceled</th>\n",
       "      <th>booking_changes</th>\n",
       "      <th>days_in_waiting_list</th>\n",
       "      <th>required_car_parking_spaces</th>\n",
       "      <th>total_of_special_requests</th>\n",
       "    </tr>\n",
       "  </thead>\n",
       "  <tbody>\n",
       "    <tr>\n",
       "      <th>count</th>\n",
       "      <td>102893.000000</td>\n",
       "      <td>102893.000000</td>\n",
       "      <td>102893.000000</td>\n",
       "      <td>102893.000000</td>\n",
       "      <td>102893.000000</td>\n",
       "      <td>102893.000000</td>\n",
       "      <td>102893.000000</td>\n",
       "      <td>102893.000000</td>\n",
       "      <td>102893.000000</td>\n",
       "      <td>102893.000000</td>\n",
       "      <td>102893.000000</td>\n",
       "      <td>102893.000000</td>\n",
       "      <td>102893.000000</td>\n",
       "    </tr>\n",
       "    <tr>\n",
       "      <th>mean</th>\n",
       "      <td>111.740838</td>\n",
       "      <td>0.978191</td>\n",
       "      <td>2.589671</td>\n",
       "      <td>1.899925</td>\n",
       "      <td>0.111232</td>\n",
       "      <td>0.007697</td>\n",
       "      <td>0.014034</td>\n",
       "      <td>0.077216</td>\n",
       "      <td>0.024365</td>\n",
       "      <td>0.201773</td>\n",
       "      <td>2.619605</td>\n",
       "      <td>0.053036</td>\n",
       "      <td>0.605464</td>\n",
       "    </tr>\n",
       "    <tr>\n",
       "      <th>std</th>\n",
       "      <td>107.681270</td>\n",
       "      <td>1.003992</td>\n",
       "      <td>1.905944</td>\n",
       "      <td>0.490893</td>\n",
       "      <td>0.411984</td>\n",
       "      <td>0.097090</td>\n",
       "      <td>0.117632</td>\n",
       "      <td>0.758189</td>\n",
       "      <td>0.435761</td>\n",
       "      <td>0.624952</td>\n",
       "      <td>18.797529</td>\n",
       "      <td>0.225360</td>\n",
       "      <td>0.799343</td>\n",
       "    </tr>\n",
       "    <tr>\n",
       "      <th>min</th>\n",
       "      <td>0.000000</td>\n",
       "      <td>0.000000</td>\n",
       "      <td>0.000000</td>\n",
       "      <td>0.000000</td>\n",
       "      <td>0.000000</td>\n",
       "      <td>0.000000</td>\n",
       "      <td>0.000000</td>\n",
       "      <td>0.000000</td>\n",
       "      <td>0.000000</td>\n",
       "      <td>0.000000</td>\n",
       "      <td>0.000000</td>\n",
       "      <td>0.000000</td>\n",
       "      <td>0.000000</td>\n",
       "    </tr>\n",
       "    <tr>\n",
       "      <th>25%</th>\n",
       "      <td>26.000000</td>\n",
       "      <td>0.000000</td>\n",
       "      <td>1.000000</td>\n",
       "      <td>2.000000</td>\n",
       "      <td>0.000000</td>\n",
       "      <td>0.000000</td>\n",
       "      <td>0.000000</td>\n",
       "      <td>0.000000</td>\n",
       "      <td>0.000000</td>\n",
       "      <td>0.000000</td>\n",
       "      <td>0.000000</td>\n",
       "      <td>0.000000</td>\n",
       "      <td>0.000000</td>\n",
       "    </tr>\n",
       "    <tr>\n",
       "      <th>50%</th>\n",
       "      <td>79.000000</td>\n",
       "      <td>1.000000</td>\n",
       "      <td>2.000000</td>\n",
       "      <td>2.000000</td>\n",
       "      <td>0.000000</td>\n",
       "      <td>0.000000</td>\n",
       "      <td>0.000000</td>\n",
       "      <td>0.000000</td>\n",
       "      <td>0.000000</td>\n",
       "      <td>0.000000</td>\n",
       "      <td>0.000000</td>\n",
       "      <td>0.000000</td>\n",
       "      <td>0.000000</td>\n",
       "    </tr>\n",
       "    <tr>\n",
       "      <th>75%</th>\n",
       "      <td>169.000000</td>\n",
       "      <td>2.000000</td>\n",
       "      <td>3.000000</td>\n",
       "      <td>2.000000</td>\n",
       "      <td>0.000000</td>\n",
       "      <td>0.000000</td>\n",
       "      <td>0.000000</td>\n",
       "      <td>0.000000</td>\n",
       "      <td>0.000000</td>\n",
       "      <td>0.000000</td>\n",
       "      <td>0.000000</td>\n",
       "      <td>0.000000</td>\n",
       "      <td>1.000000</td>\n",
       "    </tr>\n",
       "    <tr>\n",
       "      <th>max</th>\n",
       "      <td>629.000000</td>\n",
       "      <td>16.000000</td>\n",
       "      <td>41.000000</td>\n",
       "      <td>26.000000</td>\n",
       "      <td>10.000000</td>\n",
       "      <td>10.000000</td>\n",
       "      <td>1.000000</td>\n",
       "      <td>26.000000</td>\n",
       "      <td>50.000000</td>\n",
       "      <td>18.000000</td>\n",
       "      <td>391.000000</td>\n",
       "      <td>3.000000</td>\n",
       "      <td>5.000000</td>\n",
       "    </tr>\n",
       "  </tbody>\n",
       "</table>\n",
       "</div>"
      ],
      "text/plain": [
       "           lead_time  stays_in_weekend_nights  stays_in_week_nights  \\\n",
       "count  102893.000000            102893.000000         102893.000000   \n",
       "mean      111.740838                 0.978191              2.589671   \n",
       "std       107.681270                 1.003992              1.905944   \n",
       "min         0.000000                 0.000000              0.000000   \n",
       "25%        26.000000                 0.000000              1.000000   \n",
       "50%        79.000000                 1.000000              2.000000   \n",
       "75%       169.000000                 2.000000              3.000000   \n",
       "max       629.000000                16.000000             41.000000   \n",
       "\n",
       "              adults       children         babies  is_repeated_guest  \\\n",
       "count  102893.000000  102893.000000  102893.000000      102893.000000   \n",
       "mean        1.899925       0.111232       0.007697           0.014034   \n",
       "std         0.490893       0.411984       0.097090           0.117632   \n",
       "min         0.000000       0.000000       0.000000           0.000000   \n",
       "25%         2.000000       0.000000       0.000000           0.000000   \n",
       "50%         2.000000       0.000000       0.000000           0.000000   \n",
       "75%         2.000000       0.000000       0.000000           0.000000   \n",
       "max        26.000000      10.000000      10.000000           1.000000   \n",
       "\n",
       "       previous_cancellations  previous_bookings_not_canceled  \\\n",
       "count           102893.000000                   102893.000000   \n",
       "mean                 0.077216                        0.024365   \n",
       "std                  0.758189                        0.435761   \n",
       "min                  0.000000                        0.000000   \n",
       "25%                  0.000000                        0.000000   \n",
       "50%                  0.000000                        0.000000   \n",
       "75%                  0.000000                        0.000000   \n",
       "max                 26.000000                       50.000000   \n",
       "\n",
       "       booking_changes  days_in_waiting_list  required_car_parking_spaces  \\\n",
       "count    102893.000000         102893.000000                102893.000000   \n",
       "mean          0.201773              2.619605                     0.053036   \n",
       "std           0.624952             18.797529                     0.225360   \n",
       "min           0.000000              0.000000                     0.000000   \n",
       "25%           0.000000              0.000000                     0.000000   \n",
       "50%           0.000000              0.000000                     0.000000   \n",
       "75%           0.000000              0.000000                     0.000000   \n",
       "max          18.000000            391.000000                     3.000000   \n",
       "\n",
       "       total_of_special_requests  \n",
       "count              102893.000000  \n",
       "mean                    0.605464  \n",
       "std                     0.799343  \n",
       "min                     0.000000  \n",
       "25%                     0.000000  \n",
       "50%                     0.000000  \n",
       "75%                     1.000000  \n",
       "max                     5.000000  "
      ]
     },
     "execution_count": 57,
     "metadata": {},
     "output_type": "execute_result"
    }
   ],
   "source": [
    "df_num.describe()"
   ]
  },
  {
   "cell_type": "code",
   "execution_count": 58,
   "metadata": {},
   "outputs": [
    {
     "name": "stdout",
     "output_type": "stream",
     "text": [
      "lead_time                         143.0\n",
      "stays_in_weekend_nights             2.0\n",
      "stays_in_week_nights                2.0\n",
      "adults                              0.0\n",
      "children                            0.0\n",
      "babies                              0.0\n",
      "is_repeated_guest                   0.0\n",
      "previous_cancellations              0.0\n",
      "previous_bookings_not_canceled      0.0\n",
      "booking_changes                     0.0\n",
      "days_in_waiting_list                0.0\n",
      "required_car_parking_spaces         0.0\n",
      "total_of_special_requests           1.0\n",
      "dtype: float64\n"
     ]
    }
   ],
   "source": [
    "Q1 = df_num.quantile(0.25)\n",
    "Q3 = df_num.quantile(0.75)\n",
    "IQR = Q3 - Q1\n",
    "print(IQR)"
   ]
  },
  {
   "cell_type": "code",
   "execution_count": 59,
   "metadata": {},
   "outputs": [
    {
     "data": {
      "text/plain": [
       "array([ 0,  1,  2,  3,  5,  4, 17,  6,  8,  7, 10, 16,  9, 13, 12, 14, 15,\n",
       "       18, 11], dtype=int64)"
      ]
     },
     "execution_count": 59,
     "metadata": {},
     "output_type": "execute_result"
    }
   ],
   "source": [
    "df_dummy[\"booking_changes\"].unique()"
   ]
  },
  {
   "cell_type": "code",
   "execution_count": 60,
   "metadata": {},
   "outputs": [],
   "source": [
    "# Create separate data set for 'is_canceled' col: is_canceled & is_not_canceled for model creation\n",
    "df_cancel = df_dummy.loc[df['is_canceled'] == 1]\n",
    "df_no_cancel = df_dummy.loc[df['is_canceled'] == 0]"
   ]
  },
  {
   "cell_type": "code",
   "execution_count": 61,
   "metadata": {},
   "outputs": [
    {
     "data": {
      "text/plain": [
       "<AxesSubplot:xlabel='is_canceled', ylabel='lead_time'>"
      ]
     },
     "execution_count": 61,
     "metadata": {},
     "output_type": "execute_result"
    },
    {
     "data": {
      "image/png": "[encoded data removed]",
      "text/plain": [
       "<Figure size 432x288 with 1 Axes>"
      ]
     },
     "metadata": {
      "needs_background": "light"
     },
     "output_type": "display_data"
    }
   ],
   "source": [
    "sns.boxplot(y = df_dummy[\"lead_time\"], x = df_dummy['is_canceled'])"
   ]
  },
  {
   "cell_type": "code",
   "execution_count": 62,
   "metadata": {},
   "outputs": [
    {
     "data": {
      "text/plain": [
       "<AxesSubplot:xlabel='is_canceled', ylabel='arrival_date_week_number'>"
      ]
     },
     "execution_count": 62,
     "metadata": {},
     "output_type": "execute_result"
    },
    {
     "data": {
      "image/png": "[encoded data removed]",
      "text/plain": [
       "<Figure size 432x288 with 1 Axes>"
      ]
     },
     "metadata": {
      "needs_background": "light"
     },
     "output_type": "display_data"
    }
   ],
   "source": [
    "sns.boxplot(y = df_dummy[\"arrival_date_week_number\"], x = df_dummy['is_canceled'])"
   ]
  },
  {
   "cell_type": "code",
   "execution_count": 63,
   "metadata": {},
   "outputs": [
    {
     "data": {
      "text/plain": [
       "<AxesSubplot:xlabel='is_canceled', ylabel='stays_in_weekend_nights'>"
      ]
     },
     "execution_count": 63,
     "metadata": {},
     "output_type": "execute_result"
    },
    {
     "data": {
      "image/png": "[encoded data removed]",
      "text/plain": [
       "<Figure size 432x288 with 1 Axes>"
      ]
     },
     "metadata": {
      "needs_background": "light"
     },
     "output_type": "display_data"
    }
   ],
   "source": [
    "sns.boxplot(y = df_dummy[\"stays_in_weekend_nights\"], x = df_dummy['is_canceled'])"
   ]
  },
  {
   "cell_type": "code",
   "execution_count": 64,
   "metadata": {},
   "outputs": [
    {
     "data": {
      "text/plain": [
       "<AxesSubplot:xlabel='is_canceled', ylabel='stays_in_week_nights'>"
      ]
     },
     "execution_count": 64,
     "metadata": {},
     "output_type": "execute_result"
    },
    {
     "data": {
      "image/png": "[encoded data removed]",
      "text/plain": [
       "<Figure size 432x288 with 1 Axes>"
      ]
     },
     "metadata": {
      "needs_background": "light"
     },
     "output_type": "display_data"
    }
   ],
   "source": [
    "sns.boxplot(y = df_dummy[\"stays_in_week_nights\"], x = df_dummy['is_canceled'])"
   ]
  },
  {
   "cell_type": "code",
   "execution_count": 65,
   "metadata": {},
   "outputs": [
    {
     "data": {
      "text/plain": [
       "<AxesSubplot:xlabel='is_canceled', ylabel='adults'>"
      ]
     },
     "execution_count": 65,
     "metadata": {},
     "output_type": "execute_result"
    },
    {
     "data": {
      "image/png": "[encoded data removed]",
      "text/plain": [
       "<Figure size 432x288 with 1 Axes>"
      ]
     },
     "metadata": {
      "needs_background": "light"
     },
     "output_type": "display_data"
    }
   ],
   "source": [
    "sns.boxplot(y = df_dummy[\"adults\"], x = df_dummy['is_canceled'])"
   ]
  },
  {
   "cell_type": "code",
   "execution_count": 66,
   "metadata": {},
   "outputs": [
    {
     "data": {
      "text/plain": [
       "<AxesSubplot:xlabel='is_canceled', ylabel='children'>"
      ]
     },
     "execution_count": 66,
     "metadata": {},
     "output_type": "execute_result"
    },
    {
     "data": {
      "image/png": "[encoded data removed]",
      "text/plain": [
       "<Figure size 432x288 with 1 Axes>"
      ]
     },
     "metadata": {
      "needs_background": "light"
     },
     "output_type": "display_data"
    }
   ],
   "source": [
    "sns.boxplot(y = df_dummy[\"children\"], x = df_dummy['is_canceled'])"
   ]
  },
  {
   "cell_type": "code",
   "execution_count": 67,
   "metadata": {},
   "outputs": [
    {
     "data": {
      "text/plain": [
       "<AxesSubplot:xlabel='is_canceled', ylabel='babies'>"
      ]
     },
     "execution_count": 67,
     "metadata": {},
     "output_type": "execute_result"
    },
    {
     "data": {
      "image/png": "[encoded data removed]",
      "text/plain": [
       "<Figure size 432x288 with 1 Axes>"
      ]
     },
     "metadata": {
      "needs_background": "light"
     },
     "output_type": "display_data"
    }
   ],
   "source": [
    "sns.boxplot(y = df_dummy[\"babies\"], x = df_dummy['is_canceled'])"
   ]
  },
  {
   "cell_type": "code",
   "execution_count": 68,
   "metadata": {},
   "outputs": [
    {
     "data": {
      "text/plain": [
       "<AxesSubplot:xlabel='is_canceled', ylabel='is_repeated_guest'>"
      ]
     },
     "execution_count": 68,
     "metadata": {},
     "output_type": "execute_result"
    },
    {
     "data": {
      "image/png": "[encoded data removed]",
      "text/plain": [
       "<Figure size 432x288 with 1 Axes>"
      ]
     },
     "metadata": {
      "needs_background": "light"
     },
     "output_type": "display_data"
    }
   ],
   "source": [
    "sns.boxplot(y = df_dummy[\"is_repeated_guest\"], x = df_dummy['is_canceled'])"
   ]
  },
  {
   "cell_type": "code",
   "execution_count": 69,
   "metadata": {},
   "outputs": [
    {
     "data": {
      "text/plain": [
       "<AxesSubplot:xlabel='is_canceled', ylabel='previous_cancellations'>"
      ]
     },
     "execution_count": 69,
     "metadata": {},
     "output_type": "execute_result"
    },
    {
     "data": {
      "image/png": "[encoded data removed]",
      "text/plain": [
       "<Figure size 432x288 with 1 Axes>"
      ]
     },
     "metadata": {
      "needs_background": "light"
     },
     "output_type": "display_data"
    }
   ],
   "source": [
    "sns.boxplot(y = df_dummy[\"previous_cancellations\"], x = df_dummy['is_canceled'])"
   ]
  },
  {
   "cell_type": "code",
   "execution_count": 70,
   "metadata": {},
   "outputs": [
    {
     "data": {
      "text/plain": [
       "<AxesSubplot:xlabel='is_canceled', ylabel='previous_bookings_not_canceled'>"
      ]
     },
     "execution_count": 70,
     "metadata": {},
     "output_type": "execute_result"
    },
    {
     "data": {
      "image/png": "[encoded data removed]",
      "text/plain": [
       "<Figure size 432x288 with 1 Axes>"
      ]
     },
     "metadata": {
      "needs_background": "light"
     },
     "output_type": "display_data"
    }
   ],
   "source": [
    "sns.boxplot(y = df_dummy[\"previous_bookings_not_canceled\"], x = df_dummy['is_canceled'])"
   ]
  },
  {
   "cell_type": "code",
   "execution_count": 71,
   "metadata": {},
   "outputs": [
    {
     "data": {
      "text/plain": [
       "<AxesSubplot:xlabel='is_canceled', ylabel='adr'>"
      ]
     },
     "execution_count": 71,
     "metadata": {},
     "output_type": "execute_result"
    },
    {
     "data": {
      "image/png": "[encoded data removed]",
      "text/plain": [
       "<Figure size 432x288 with 1 Axes>"
      ]
     },
     "metadata": {
      "needs_background": "light"
     },
     "output_type": "display_data"
    }
   ],
   "source": [
    "sns.boxplot(y = df_dummy[\"adr\"], x = df_dummy['is_canceled'])"
   ]
  },
  {
   "cell_type": "code",
   "execution_count": 72,
   "metadata": {},
   "outputs": [
    {
     "data": {
      "text/plain": [
       "<AxesSubplot:xlabel='is_canceled', ylabel='booking_changes'>"
      ]
     },
     "execution_count": 72,
     "metadata": {},
     "output_type": "execute_result"
    },
    {
     "data": {
      "image/png": "[encoded data removed]",
      "text/plain": [
       "<Figure size 432x288 with 1 Axes>"
      ]
     },
     "metadata": {
      "needs_background": "light"
     },
     "output_type": "display_data"
    }
   ],
   "source": [
    "sns.boxplot(y = df_dummy[\"booking_changes\"], x = df_dummy['is_canceled'])"
   ]
  },
  {
   "cell_type": "code",
   "execution_count": 73,
   "metadata": {},
   "outputs": [
    {
     "data": {
      "text/plain": [
       "<AxesSubplot:xlabel='is_canceled', ylabel='required_car_parking_spaces'>"
      ]
     },
     "execution_count": 73,
     "metadata": {},
     "output_type": "execute_result"
    },
    {
     "data": {
      "image/png": "[encoded data removed]",
      "text/plain": [
       "<Figure size 432x288 with 1 Axes>"
      ]
     },
     "metadata": {
      "needs_background": "light"
     },
     "output_type": "display_data"
    }
   ],
   "source": [
    "sns.boxplot(y = df_dummy[\"required_car_parking_spaces\"], x = df_dummy['is_canceled'])\n"
   ]
  },
  {
   "cell_type": "code",
   "execution_count": 74,
   "metadata": {},
   "outputs": [
    {
     "data": {
      "text/plain": [
       "<AxesSubplot:xlabel='is_canceled', ylabel='total_of_special_requests'>"
      ]
     },
     "execution_count": 74,
     "metadata": {},
     "output_type": "execute_result"
    },
    {
     "data": {
      "image/png": "[encoded data removed]",
      "text/plain": [
       "<Figure size 432x288 with 1 Axes>"
      ]
     },
     "metadata": {
      "needs_background": "light"
     },
     "output_type": "display_data"
    }
   ],
   "source": [
    "sns.boxplot(y = df_dummy[\"total_of_special_requests\"], x = df_dummy['is_canceled'])"
   ]
  },
  {
   "cell_type": "code",
   "execution_count": 75,
   "metadata": {},
   "outputs": [
    {
     "data": {
      "image/png": "[encoded data removed]",
      "text/plain": [
       "<Figure size 432x288 with 1 Axes>"
      ]
     },
     "metadata": {
      "needs_background": "light"
     },
     "output_type": "display_data"
    }
   ],
   "source": [
    "cnt('days_in_waiting_list' , df_dummy)"
   ]
  },
  {
   "cell_type": "code",
   "execution_count": 76,
   "metadata": {},
   "outputs": [
    {
     "data": {
      "text/plain": [
       "0      99354\n",
       "39       226\n",
       "58       164\n",
       "44       140\n",
       "31       107\n",
       "       ...  \n",
       "92         1\n",
       "81         1\n",
       "52         1\n",
       "116        1\n",
       "89         1\n",
       "Name: days_in_waiting_list, Length: 122, dtype: int64"
      ]
     },
     "execution_count": 76,
     "metadata": {},
     "output_type": "execute_result"
    }
   ],
   "source": [
    "df_dummy['days_in_waiting_list'].value_counts()"
   ]
  },
  {
   "cell_type": "code",
   "execution_count": 77,
   "metadata": {},
   "outputs": [],
   "source": [
    "# Remove outliers based on counts for unique values in each column\n",
    "df_dummy = df_dummy[df_dummy['stays_in_weekend_nights']<=10]\n",
    "df_dummy = df_dummy[df_dummy['stays_in_week_nights']<=20]\n",
    "df_dummy = df_dummy[df_dummy['previous_bookings_not_canceled']<=10]\n",
    "df_dummy = df_dummy[df_dummy['days_in_waiting_list']<=10]\n",
    "df_dummy = df_dummy[df_dummy['children']<=5]\n",
    "df_dummy = df_dummy[df_dummy['required_car_parking_spaces']<=5]\n",
    "df_dummy = df_dummy[df_dummy['total_of_special_requests']<=5]\n",
    "df_dummy = df_dummy[df_dummy['babies']<=8]"
   ]
  },
  {
   "cell_type": "code",
   "execution_count": 78,
   "metadata": {
    "scrolled": true
   },
   "outputs": [
    {
     "data": {
      "image/png": "[encoded data removed]",
      "text/plain": [
       "<Figure size 432x288 with 1 Axes>"
      ]
     },
     "metadata": {
      "needs_background": "light"
     },
     "output_type": "display_data"
    }
   ],
   "source": [
    "cnt('required_car_parking_spaces' , df_dummy)\n"
   ]
  },
  {
   "cell_type": "code",
   "execution_count": 79,
   "metadata": {},
   "outputs": [
    {
     "data": {
      "text/plain": [
       "0    98679\n",
       "1      749\n",
       "2       11\n",
       "Name: babies, dtype: int64"
      ]
     },
     "execution_count": 79,
     "metadata": {},
     "output_type": "execute_result"
    }
   ],
   "source": [
    "df_dummy['babies'].value_counts()"
   ]
  },
  {
   "cell_type": "code",
   "execution_count": 80,
   "metadata": {},
   "outputs": [
    {
     "data": {
      "text/plain": [
       "{'upper': 372.5, 'lower': -183.5}"
      ]
     },
     "execution_count": 80,
     "metadata": {},
     "output_type": "execute_result"
    }
   ],
   "source": [
    "whiskers(df_dummy[\"lead_time\"])"
   ]
  },
  {
   "cell_type": "code",
   "execution_count": 81,
   "metadata": {},
   "outputs": [],
   "source": [
    "Q1 = df_dummy[\"lead_time\"].quantile(0.25)\n",
    "Q3 = df_dummy[\"lead_time\"].quantile(0.75)\n",
    "IQR = Q3 - Q1\n",
    "\n",
    "df_dummy_no_outlier = df_dummy.loc[(df_dummy['lead_time'] > Q1) & (df_dummy['lead_time'] < Q3)]\n"
   ]
  },
  {
   "cell_type": "code",
   "execution_count": 82,
   "metadata": {},
   "outputs": [],
   "source": [
    "Q1 = df_dummy_no_outlier[\"adr\"].quantile(0.25)\n",
    "Q3 = df_dummy_no_outlier[\"adr\"].quantile(0.75)\n",
    "IQR = Q3 - Q1\n",
    "\n",
    "df_dummy_no_outlier = df_dummy_no_outlier.loc[(df_dummy_no_outlier['adr'] > Q1) & (df_dummy_no_outlier['adr'] < Q3)]"
   ]
  },
  {
   "cell_type": "code",
   "execution_count": 83,
   "metadata": {},
   "outputs": [
    {
     "data": {
      "text/plain": [
       "(99439, 31)"
      ]
     },
     "execution_count": 83,
     "metadata": {},
     "output_type": "execute_result"
    }
   ],
   "source": [
    "df_dummy.shape"
   ]
  },
  {
   "cell_type": "code",
   "execution_count": 84,
   "metadata": {},
   "outputs": [
    {
     "data": {
      "text/plain": [
       "(24510, 31)"
      ]
     },
     "execution_count": 84,
     "metadata": {},
     "output_type": "execute_result"
    }
   ],
   "source": [
    "df_dummy_no_outlier.shape"
   ]
  },
  {
   "cell_type": "markdown",
   "metadata": {},
   "source": [
    "#### Outlier removal using IQR for lead_time & adr will result losing too much information. As a consequence, I keep outliers in these two columns"
   ]
  },
  {
   "cell_type": "markdown",
   "metadata": {},
   "source": [
    "## Correlation analysis"
   ]
  },
  {
   "cell_type": "markdown",
   "metadata": {},
   "source": [
    "To investigate information hidden due to imbalance in the dataset, resampling method is applied before correlation test"
   ]
  },
  {
   "cell_type": "code",
   "execution_count": 85,
   "metadata": {},
   "outputs": [
    {
     "data": {
      "text/plain": [
       "0    61472\n",
       "1    37967\n",
       "Name: is_canceled, dtype: int64"
      ]
     },
     "execution_count": 85,
     "metadata": {},
     "output_type": "execute_result"
    }
   ],
   "source": [
    "df_dummy['is_canceled'].value_counts()"
   ]
  },
  {
   "cell_type": "code",
   "execution_count": 86,
   "metadata": {},
   "outputs": [
    {
     "data": {
      "text/plain": [
       "(99439, 31)"
      ]
     },
     "execution_count": 86,
     "metadata": {},
     "output_type": "execute_result"
    }
   ],
   "source": [
    "df_dummy.shape"
   ]
  },
  {
   "cell_type": "code",
   "execution_count": 87,
   "metadata": {},
   "outputs": [
    {
     "data": {
      "text/plain": [
       "(102893, 31)"
      ]
     },
     "execution_count": 87,
     "metadata": {},
     "output_type": "execute_result"
    }
   ],
   "source": [
    "df1.shape"
   ]
  },
  {
   "cell_type": "code",
   "execution_count": 88,
   "metadata": {},
   "outputs": [
    {
     "data": {
      "text/plain": [
       "<AxesSubplot:xlabel='is_canceled', ylabel='count'>"
      ]
     },
     "execution_count": 88,
     "metadata": {},
     "output_type": "execute_result"
    },
    {
     "data": {
      "image/png": "[encoded data removed]",
      "text/plain": [
       "<Figure size 432x288 with 1 Axes>"
      ]
     },
     "metadata": {
      "needs_background": "light"
     },
     "output_type": "display_data"
    }
   ],
   "source": [
    "sns.countplot('is_canceled', data=df_dummy)"
   ]
  },
  {
   "cell_type": "markdown",
   "metadata": {},
   "source": [
    "#### Numerical features"
   ]
  },
  {
   "cell_type": "code",
   "execution_count": 89,
   "metadata": {},
   "outputs": [
    {
     "data": {
      "text/plain": [
       "lead_time                         0.277678\n",
       "total_of_special_requests         0.257928\n",
       "required_car_parking_spaces       0.188297\n",
       "booking_changes                   0.131732\n",
       "previous_cancellations            0.117985\n",
       "agent                             0.081931\n",
       "days_in_waiting_list              0.052477\n",
       "previous_bookings_not_canceled    0.042589\n",
       "adults                            0.037055\n",
       "babies                            0.032037\n",
       "is_repeated_guest                 0.029911\n",
       "stays_in_weekend_nights           0.023577\n",
       "adr                               0.023304\n",
       "arrival_date_day_of_month         0.005481\n",
       "children                          0.005412\n",
       "arrival_date_year                 0.004563\n",
       "arrival_date_week_number          0.004186\n",
       "stays_in_week_nights              0.003928\n",
       "Name: is_canceled, dtype: float64"
      ]
     },
     "execution_count": 89,
     "metadata": {},
     "output_type": "execute_result"
    }
   ],
   "source": [
    "corr = df1.corr()[\"is_canceled\"]\n",
    "\n",
    "corr.abs().sort_values(ascending=False)[1:]"
   ]
  },
  {
   "cell_type": "code",
   "execution_count": 90,
   "metadata": {
    "scrolled": true
   },
   "outputs": [
    {
     "data": {
      "text/plain": [
       "lead_time                         0.272381\n",
       "total_of_special_requests         0.249830\n",
       "required_car_parking_spaces       0.188318\n",
       "booking_changes                   0.125845\n",
       "previous_cancellations            0.112830\n",
       "agent                             0.073929\n",
       "previous_bookings_not_canceled    0.052712\n",
       "adults                            0.045495\n",
       "babies                            0.032894\n",
       "days_in_waiting_list              0.027617\n",
       "is_repeated_guest                 0.026739\n",
       "adr                               0.026410\n",
       "stays_in_weekend_nights           0.017487\n",
       "arrival_date_week_number          0.016896\n",
       "children                          0.009990\n",
       "stays_in_week_nights              0.009045\n",
       "arrival_date_day_of_month         0.005525\n",
       "arrival_date_year                 0.004634\n",
       "Name: is_canceled, dtype: float64"
      ]
     },
     "execution_count": 90,
     "metadata": {},
     "output_type": "execute_result"
    }
   ],
   "source": [
    "corr = df_dummy.corr()[\"is_canceled\"]\n",
    "\n",
    "corr.abs().sort_values(ascending=False)[1:]"
   ]
  },
  {
   "cell_type": "markdown",
   "metadata": {},
   "source": [
    "#### Categorical features"
   ]
  },
  {
   "cell_type": "markdown",
   "metadata": {},
   "source": [
    "##### Cramer's V"
   ]
  },
  {
   "cell_type": "code",
   "execution_count": 91,
   "metadata": {},
   "outputs": [],
   "source": [
    "### Cramer's V\n",
    "\n",
    "# Cramer's V function\n",
    "def cramer_v(x, y):\n",
    "    n = len(x)\n",
    "    ct = pd.crosstab(x, y) # crosstab\n",
    "    chi2 = chi2_contingency(ct)[0]\n",
    "    v = np.sqrt(chi2 / (n * (np.min(ct.shape) - 1)))\n",
    "    return v"
   ]
  },
  {
   "cell_type": "code",
   "execution_count": 92,
   "metadata": {},
   "outputs": [
    {
     "data": {
      "text/plain": [
       "0.11620799941116514"
      ]
     },
     "execution_count": 92,
     "metadata": {},
     "output_type": "execute_result"
    }
   ],
   "source": [
    "cramer_v(df1['hotel'], df1['is_canceled'])"
   ]
  },
  {
   "cell_type": "code",
   "execution_count": 93,
   "metadata": {},
   "outputs": [
    {
     "data": {
      "text/plain": [
       "0.053340349566868374"
      ]
     },
     "execution_count": 93,
     "metadata": {},
     "output_type": "execute_result"
    }
   ],
   "source": [
    "cramer_v(df1['meal'], df1['is_canceled'])"
   ]
  },
  {
   "cell_type": "code",
   "execution_count": 94,
   "metadata": {},
   "outputs": [
    {
     "data": {
      "text/plain": [
       "0.23912905435376025"
      ]
     },
     "execution_count": 94,
     "metadata": {},
     "output_type": "execute_result"
    }
   ],
   "source": [
    "cramer_v(df1['market_segment'], df1['is_canceled'])"
   ]
  },
  {
   "cell_type": "code",
   "execution_count": 95,
   "metadata": {},
   "outputs": [
    {
     "data": {
      "text/plain": [
       "0.11060614625517508"
      ]
     },
     "execution_count": 95,
     "metadata": {},
     "output_type": "execute_result"
    }
   ],
   "source": [
    "cramer_v(df1['distribution_channel'], df1['is_canceled'])"
   ]
  },
  {
   "cell_type": "code",
   "execution_count": 96,
   "metadata": {},
   "outputs": [
    {
     "data": {
      "text/plain": [
       "0.07603623099994725"
      ]
     },
     "execution_count": 96,
     "metadata": {},
     "output_type": "execute_result"
    }
   ],
   "source": [
    "cramer_v(df1['reserved_room_type'], df1['is_canceled'])"
   ]
  },
  {
   "cell_type": "code",
   "execution_count": 97,
   "metadata": {},
   "outputs": [
    {
     "data": {
      "text/plain": [
       "0.19340595304307084"
      ]
     },
     "execution_count": 97,
     "metadata": {},
     "output_type": "execute_result"
    }
   ],
   "source": [
    "cramer_v(df1['assigned_room_type'], df1['is_canceled'])"
   ]
  },
  {
   "cell_type": "code",
   "execution_count": 98,
   "metadata": {},
   "outputs": [
    {
     "data": {
      "text/plain": [
       "0.46200379537402436"
      ]
     },
     "execution_count": 98,
     "metadata": {},
     "output_type": "execute_result"
    }
   ],
   "source": [
    "cramer_v(df1['deposit_type'], df1['is_canceled'])"
   ]
  },
  {
   "cell_type": "code",
   "execution_count": 99,
   "metadata": {},
   "outputs": [
    {
     "data": {
      "text/plain": [
       "0.14521141855682973"
      ]
     },
     "execution_count": 99,
     "metadata": {},
     "output_type": "execute_result"
    }
   ],
   "source": [
    "cramer_v(df1['customer_type'], df1['is_canceled'])"
   ]
  },
  {
   "cell_type": "markdown",
   "metadata": {},
   "source": [
    "##### Chi-squared test "
   ]
  },
  {
   "cell_type": "code",
   "execution_count": 100,
   "metadata": {},
   "outputs": [
    {
     "name": "stdout",
     "output_type": "stream",
     "text": [
      "chi-sqr stat:  1389.4978500893671 p-value: 4.023228250447813e-304\n"
     ]
    },
    {
     "data": {
      "text/plain": [
       "<AxesSubplot:xlabel='hotel', ylabel='count'>"
      ]
     },
     "execution_count": 100,
     "metadata": {},
     "output_type": "execute_result"
    },
    {
     "data": {
      "image/png": "[encoded data removed]",
      "text/plain": [
       "<Figure size 432x288 with 1 Axes>"
      ]
     },
     "metadata": {
      "needs_background": "light"
     },
     "output_type": "display_data"
    }
   ],
   "source": [
    "table = pd.crosstab(df1[\"is_canceled\"], df1[\"hotel\"])\n",
    "\n",
    "chi2, p, dof, expected = chi2_contingency(table.values)\n",
    "print(\"chi-sqr stat: \",chi2,\"p-value:\" ,p)\n",
    "sns.countplot(x=\"hotel\", hue=\"is_canceled\", data=df1)"
   ]
  },
  {
   "cell_type": "code",
   "execution_count": 101,
   "metadata": {
    "scrolled": true
   },
   "outputs": [
    {
     "name": "stdout",
     "output_type": "stream",
     "text": [
      "chi-sqr stat:  292.75043222788366 p-value: 3.967124309619345e-62\n"
     ]
    },
    {
     "data": {
      "text/plain": [
       "<AxesSubplot:xlabel='meal', ylabel='count'>"
      ]
     },
     "execution_count": 101,
     "metadata": {},
     "output_type": "execute_result"
    },
    {
     "data": {
      "image/png": "[encoded data removed]",
      "text/plain": [
       "<Figure size 432x288 with 1 Axes>"
      ]
     },
     "metadata": {
      "needs_background": "light"
     },
     "output_type": "display_data"
    }
   ],
   "source": [
    "table = pd.crosstab(df1[\"is_canceled\"], df1[\"meal\"])\n",
    "\n",
    "chi2, p, dof, expected = chi2_contingency(table.values)\n",
    "print(\"chi-sqr stat: \",chi2,\"p-value:\" ,p)\n",
    "sns.countplot(x=\"meal\", hue=\"is_canceled\", data=df1)"
   ]
  },
  {
   "cell_type": "code",
   "execution_count": 102,
   "metadata": {},
   "outputs": [
    {
     "name": "stdout",
     "output_type": "stream",
     "text": [
      "chi-sqr stat:  5883.700028124668 p-value: 0.0\n"
     ]
    },
    {
     "data": {
      "text/plain": [
       "(array([0, 1, 2, 3, 4, 5, 6]),\n",
       " [Text(0, 0, 'Corporate'),\n",
       "  Text(1, 0, 'Online TA'),\n",
       "  Text(2, 0, 'Direct'),\n",
       "  Text(3, 0, 'Offline TA/TO'),\n",
       "  Text(4, 0, 'Groups'),\n",
       "  Text(5, 0, 'Complementary'),\n",
       "  Text(6, 0, 'Aviation')])"
      ]
     },
     "execution_count": 102,
     "metadata": {},
     "output_type": "execute_result"
    },
    {
     "data": {
      "image/png": "[encoded data removed]",
      "text/plain": [
       "<Figure size 432x288 with 1 Axes>"
      ]
     },
     "metadata": {
      "needs_background": "light"
     },
     "output_type": "display_data"
    }
   ],
   "source": [
    "table = pd.crosstab(df1[\"is_canceled\"], df1[\"market_segment\"])\n",
    "\n",
    "chi2, p, dof, expected = chi2_contingency(table.values)\n",
    "print(\"chi-sqr stat: \",chi2,\"p-value:\" ,p)\n",
    "sns.countplot(x=\"market_segment\", hue=\"is_canceled\", data=df1)\n",
    "plt.xticks(rotation=45)"
   ]
  },
  {
   "cell_type": "code",
   "execution_count": 103,
   "metadata": {},
   "outputs": [
    {
     "name": "stdout",
     "output_type": "stream",
     "text": [
      "chi-sqr stat:  1258.7641097143137 p-value: 1.3034771137836434e-272\n"
     ]
    },
    {
     "data": {
      "text/plain": [
       "(array([0, 1, 2, 3]),\n",
       " [Text(0, 0, 'Corporate'),\n",
       "  Text(1, 0, 'TA/TO'),\n",
       "  Text(2, 0, 'Direct'),\n",
       "  Text(3, 0, 'GDS')])"
      ]
     },
     "execution_count": 103,
     "metadata": {},
     "output_type": "execute_result"
    },
    {
     "data": {
      "image/png": "[encoded data removed]",
      "text/plain": [
       "<Figure size 432x288 with 1 Axes>"
      ]
     },
     "metadata": {
      "needs_background": "light"
     },
     "output_type": "display_data"
    }
   ],
   "source": [
    "table = pd.crosstab(df1[\"is_canceled\"], df1[\"distribution_channel\"])\n",
    "\n",
    "chi2, p, dof, expected = chi2_contingency(table.values)\n",
    "print(\"chi-sqr stat: \",chi2,\"p-value:\" ,p)\n",
    "sns.countplot(x=\"distribution_channel\", hue=\"is_canceled\", data=df1)\n",
    "plt.xticks(rotation=45)"
   ]
  },
  {
   "cell_type": "code",
   "execution_count": 104,
   "metadata": {},
   "outputs": [
    {
     "name": "stdout",
     "output_type": "stream",
     "text": [
      "chi-sqr stat:  594.8767463403253 p-value: 3.0883423020290057e-124\n"
     ]
    },
    {
     "data": {
      "text/plain": [
       "<AxesSubplot:xlabel='reserved_room_type', ylabel='count'>"
      ]
     },
     "execution_count": 104,
     "metadata": {},
     "output_type": "execute_result"
    },
    {
     "data": {
      "image/png": "[encoded data removed]",
      "text/plain": [
       "<Figure size 432x288 with 1 Axes>"
      ]
     },
     "metadata": {
      "needs_background": "light"
     },
     "output_type": "display_data"
    }
   ],
   "source": [
    "table = pd.crosstab(df1[\"is_canceled\"], df1[\"reserved_room_type\"])\n",
    "\n",
    "chi2, p, dof, expected = chi2_contingency(table.values)\n",
    "print(\"chi-sqr stat: \",chi2,\"p-value:\" ,p)\n",
    "sns.countplot(x=\"reserved_room_type\", hue=\"is_canceled\", data=df1)"
   ]
  },
  {
   "cell_type": "code",
   "execution_count": 105,
   "metadata": {},
   "outputs": [
    {
     "name": "stdout",
     "output_type": "stream",
     "text": [
      "chi-sqr stat:  3848.8014279613913 p-value: 0.0\n"
     ]
    },
    {
     "data": {
      "text/plain": [
       "<AxesSubplot:xlabel='assigned_room_type', ylabel='count'>"
      ]
     },
     "execution_count": 105,
     "metadata": {},
     "output_type": "execute_result"
    },
    {
     "data": {
      "image/png": "[encoded data removed]",
      "text/plain": [
       "<Figure size 432x288 with 1 Axes>"
      ]
     },
     "metadata": {
      "needs_background": "light"
     },
     "output_type": "display_data"
    }
   ],
   "source": [
    "table = pd.crosstab(df1[\"is_canceled\"], df1[\"assigned_room_type\"])\n",
    "\n",
    "chi2, p, dof, expected = chi2_contingency(table.values)\n",
    "print(\"chi-sqr stat: \",chi2,\"p-value:\" ,p)\n",
    "sns.countplot(x=\"assigned_room_type\", hue=\"is_canceled\", data=df1)"
   ]
  },
  {
   "cell_type": "code",
   "execution_count": 106,
   "metadata": {},
   "outputs": [
    {
     "name": "stdout",
     "output_type": "stream",
     "text": [
      "chi-sqr stat:  21962.25433157777 p-value: 0.0\n"
     ]
    },
    {
     "data": {
      "text/plain": [
       "<AxesSubplot:xlabel='deposit_type', ylabel='count'>"
      ]
     },
     "execution_count": 106,
     "metadata": {},
     "output_type": "execute_result"
    },
    {
     "data": {
      "image/png": "[encoded data removed]",
      "text/plain": [
       "<Figure size 432x288 with 1 Axes>"
      ]
     },
     "metadata": {
      "needs_background": "light"
     },
     "output_type": "display_data"
    }
   ],
   "source": [
    "table = pd.crosstab(df1[\"is_canceled\"], df1[\"deposit_type\"])\n",
    "\n",
    "chi2, p, dof, expected = chi2_contingency(table.values)\n",
    "print(\"chi-sqr stat: \",chi2,\"p-value:\" ,p)\n",
    "sns.countplot(x=\"deposit_type\", hue=\"is_canceled\", data=df1)"
   ]
  },
  {
   "cell_type": "code",
   "execution_count": 107,
   "metadata": {
    "scrolled": true
   },
   "outputs": [
    {
     "name": "stdout",
     "output_type": "stream",
     "text": [
      "chi-sqr stat:  2169.638436066056 p-value: 0.0\n"
     ]
    },
    {
     "data": {
      "text/plain": [
       "<AxesSubplot:xlabel='customer_type', ylabel='count'>"
      ]
     },
     "execution_count": 107,
     "metadata": {},
     "output_type": "execute_result"
    },
    {
     "data": {
      "image/png": "[encoded data removed]",
      "text/plain": [
       "<Figure size 432x288 with 1 Axes>"
      ]
     },
     "metadata": {
      "needs_background": "light"
     },
     "output_type": "display_data"
    }
   ],
   "source": [
    "table = pd.crosstab(df1[\"is_canceled\"], df1[\"customer_type\"])\n",
    "\n",
    "chi2, p, dof, expected = chi2_contingency(table.values)\n",
    "print(\"chi-sqr stat: \",chi2,\"p-value:\" ,p)\n",
    "sns.countplot(x=\"customer_type\", hue=\"is_canceled\", data=df1)"
   ]
  },
  {
   "cell_type": "markdown",
   "metadata": {},
   "source": [
    "**Correlation test suggests**\n",
    "\n",
    "lead_time\n",
    "total_of_special_requests         \n",
    "required_car_parking_spaces       \n",
    "booking_changes                   \n",
    "previous_cancellations           \n",
    "customer_type     \n",
    "deposit_type    \n",
    "assigned_room_type    \n",
    "distribution_channel    \n",
    "market_segment   \n",
    "hotel"
   ]
  },
  {
   "cell_type": "markdown",
   "metadata": {},
   "source": [
    "##### Exclude meal & reserved_room_type based on the cramer's V and chisquared test and create dummy variables for the rest categorical variables"
   ]
  },
  {
   "cell_type": "code",
   "execution_count": 108,
   "metadata": {},
   "outputs": [],
   "source": [
    "df_dummy = df_dummy.drop([\"reserved_room_type\", 'meal'], axis = 1)"
   ]
  },
  {
   "cell_type": "code",
   "execution_count": 109,
   "metadata": {},
   "outputs": [],
   "source": [
    "df_dummy = pd.get_dummies(df_dummy, columns = ['customer_type', 'deposit_type','assigned_room_type', 'distribution_channel',\n",
    "                                               'market_segment', 'hotel'])"
   ]
  },
  {
   "cell_type": "code",
   "execution_count": 110,
   "metadata": {},
   "outputs": [
    {
     "data": {
      "text/plain": [
       "(99439, 53)"
      ]
     },
     "execution_count": 110,
     "metadata": {},
     "output_type": "execute_result"
    }
   ],
   "source": [
    "df_dummy.shape"
   ]
  },
  {
   "cell_type": "markdown",
   "metadata": {},
   "source": [
    "lead_time                         0.277666\n",
    "total_of_special_requests         0.257934\n",
    "required_car_parking_spaces       0.188298\n",
    "booking_changes                   0.131714\n",
    "previous_cancellations            0.117983\n",
    "agent                             0.081939\n",
    "days_in_waiting_list              0.052475\n",
    "previous_bookings_not_canceled    0.042589\n",
    "adults                            0.037057\n",
    "babies                            0.032038\n",
    "is_repeated_guest                 0.029913\n",
    "stays_in_weekend_nights           0.023589\n",
    "adr                               0.023284\n",
    "arrival_date_day_of_month         0.005468\n",
    "children                          0.005409\n",
    "arrival_date_year                 0.004561\n",
    "arrival_date_week_number          0.004172\n",
    "stays_in_week_nights              0.003918"
   ]
  },
  {
   "cell_type": "code",
   "execution_count": 111,
   "metadata": {},
   "outputs": [
    {
     "data": {
      "text/plain": [
       "lead_time                         0.272381\n",
       "total_of_special_requests         0.249830\n",
       "required_car_parking_spaces       0.188318\n",
       "booking_changes                   0.125845\n",
       "previous_cancellations            0.112830\n",
       "agent                             0.073929\n",
       "previous_bookings_not_canceled    0.052712\n",
       "adults                            0.045495\n",
       "babies                            0.032894\n",
       "days_in_waiting_list              0.027617\n",
       "is_repeated_guest                 0.026739\n",
       "adr                               0.026410\n",
       "stays_in_weekend_nights           0.017487\n",
       "arrival_date_week_number          0.016896\n",
       "children                          0.009990\n",
       "stays_in_week_nights              0.009045\n",
       "arrival_date_day_of_month         0.005525\n",
       "arrival_date_year                 0.004634\n",
       "Name: is_canceled, dtype: float64"
      ]
     },
     "execution_count": 111,
     "metadata": {},
     "output_type": "execute_result"
    }
   ],
   "source": [
    "dcorr = df.corr()[\"is_canceled\"]\n",
    "\n",
    "corr.abs().sort_values(ascending=False)[1:]"
   ]
  },
  {
   "cell_type": "code",
   "execution_count": 112,
   "metadata": {},
   "outputs": [],
   "source": [
    "from sklearn.model_selection  import train_test_split\n",
    "from sklearn.metrics import *\n",
    "import statsmodels.formula.api as smf\n",
    "from sklearn.metrics import roc_auc_score, recall_score, precision_score, f1_score, mean_squared_error\n",
    "from sklearn import metrics, datasets, tree\n",
    "\n",
    "\n",
    "import lightgbm as lgb\n",
    "from sklearn.ensemble import ExtraTreesClassifier\n",
    "from sklearn.tree import DecisionTreeClassifier\n",
    "from sklearn.ensemble import RandomForestClassifier\n",
    "from sklearn.datasets import make_classification\n",
    "from sklearn.linear_model import LogisticRegression\n",
    "from sklearn.linear_model import LinearRegression\n",
    "from sklearn.preprocessing import scale\n",
    "from sklearn.neural_network import MLPClassifier\n",
    "from sklearn.model_selection import GridSearchCV\n",
    "from sklearn.naive_bayes import GaussianNB\n",
    "import math\n",
    "\n",
    "from imblearn.under_sampling import RandomUnderSampler\n",
    "import imblearn"
   ]
  },
  {
   "cell_type": "markdown",
   "metadata": {},
   "source": [
    "## Predict cancelations "
   ]
  },
  {
   "cell_type": "code",
   "execution_count": 113,
   "metadata": {},
   "outputs": [],
   "source": [
    "# Create a function for evaluation metrics\n",
    "def print_result(cm, y_test, y_pred):\n",
    "    sensitivity = cm[0,0]/(cm[0,0]+cm[0,1])\n",
    "    specificity = cm[1,1]/(cm[1,0]+cm[1,1])\n",
    "    mse = mean_squared_error(y_test, y_pred)\n",
    "    rmse = math.sqrt(mse)\n",
    "\n",
    "    print ('Accuracy:', accuracy_score(y_test, y_pred))\n",
    "    print ('F1 score:', f1_score(y_test, y_pred))\n",
    "    print ('Recall(Specificity):', recall_score(y_test, y_pred))\n",
    "    print('Sensitivity : ', sensitivity )\n",
    "    print ('Precision:', precision_score(y_test, y_pred))\n",
    "    print('RMSE:', math.sqrt(mse))\n",
    "    print ('AUC:', roc_auc_score(y_test, y_pred))\n",
    "    \n",
    "# Create a function for roc plotting\n",
    "def plot_roc(y_test, y_pred, title):\n",
    "    false_positive_rate1, true_positive_rate1, threshold1 = roc_curve(y_test, y_pred)\n",
    "\n",
    "    plt.subplots(1, figsize=(4,4))\n",
    "    plt.title(title, fontsize = 15)\n",
    "    plt.plot(false_positive_rate1, true_positive_rate1)\n",
    "    plt.plot([0, 1], ls=\"--\")\n",
    "    plt.plot([0, 0], [1, 0] , c=\".7\"), plt.plot([1, 1] , c=\".7\")\n",
    "    plt.ylabel('True Positive Rate')\n",
    "    plt.xlabel('False Positive Rate')\n",
    "    plt.ylabel('True Positive Rate', fontsize = 10)\n",
    "    plt.xlabel('False Positive Rate', fontsize = 10)\n",
    "    plt.show()\n",
    "    print ('AUC:', roc_auc_score(y_test, y_pred))"
   ]
  },
  {
   "cell_type": "markdown",
   "metadata": {},
   "source": [
    "### Logistic Regression model"
   ]
  },
  {
   "cell_type": "code",
   "execution_count": 114,
   "metadata": {},
   "outputs": [
    {
     "name": "stdout",
     "output_type": "stream",
     "text": [
      "                                 OLS Regression Results                                \n",
      "=======================================================================================\n",
      "Dep. Variable:            is_canceled   R-squared (uncentered):                   0.482\n",
      "Model:                            OLS   Adj. R-squared (uncentered):              0.482\n",
      "Method:                 Least Squares   F-statistic:                              3474.\n",
      "Date:                Fri, 01 Jan 2021   Prob (F-statistic):                        0.00\n",
      "Time:                        19:09:21   Log-Likelihood:                         -18106.\n",
      "No. Observations:               29832   AIC:                                  3.623e+04\n",
      "Df Residuals:                   29824   BIC:                                  3.629e+04\n",
      "Df Model:                           8                                                  \n",
      "Covariance Type:            nonrobust                                                  \n",
      "===============================================================================================\n",
      "                                  coef    std err          t      P>|t|      [0.025      0.975]\n",
      "-----------------------------------------------------------------------------------------------\n",
      "lead_time                       0.0011   2.45e-05     46.319      0.000       0.001       0.001\n",
      "total_of_special_requests      -0.1286      0.003    -39.082      0.000      -0.135      -0.122\n",
      "required_car_parking_spaces    -0.3109      0.011    -27.314      0.000      -0.333      -0.289\n",
      "booking_changes                -0.0837      0.004    -19.703      0.000      -0.092      -0.075\n",
      "previous_cancellations          0.0543      0.004     15.467      0.000       0.047       0.061\n",
      "adults                          0.1019      0.004     25.374      0.000       0.094       0.110\n",
      "adr                             0.0013    5.6e-05     23.661      0.000       0.001       0.001\n",
      "arrival_date_day_of_month       0.0016      0.000      6.007      0.000       0.001       0.002\n",
      "==============================================================================\n",
      "Omnibus:                    35436.602   Durbin-Watson:                   2.004\n",
      "Prob(Omnibus):                  0.000   Jarque-Bera (JB):             2510.374\n",
      "Skew:                           0.358   Prob(JB):                         0.00\n",
      "Kurtosis:                       1.772   Cond. No.                         769.\n",
      "==============================================================================\n",
      "\n",
      "Warnings:\n",
      "[1] Standard Errors assume that the covariance matrix of the errors is correctly specified.\n"
     ]
    }
   ],
   "source": [
    "y = df_dummy[['is_canceled']]\n",
    "X = df_dummy[['lead_time', 'total_of_special_requests', 'required_car_parking_spaces', 'booking_changes', 'previous_cancellations',\n",
    "              'adults', 'adr','arrival_date_day_of_month']]\n",
    "X_train, X_test, y_train, y_test = train_test_split(X, y, test_size=0.30,random_state=109)\n",
    "\n",
    "model = sm.OLS(y_test, X_test).fit()\n",
    "y_pred = model.predict(X_test)\n",
    "print(model.summary())\n"
   ]
  },
  {
   "cell_type": "code",
   "execution_count": 115,
   "metadata": {},
   "outputs": [
    {
     "data": {
      "text/plain": [
       "LinearRegression()"
      ]
     },
     "execution_count": 115,
     "metadata": {},
     "output_type": "execute_result"
    }
   ],
   "source": [
    "regressor = LinearRegression()  \n",
    "regressor.fit(X_train, y_train) #training the algorithm"
   ]
  },
  {
   "cell_type": "code",
   "execution_count": 116,
   "metadata": {},
   "outputs": [
    {
     "name": "stdout",
     "output_type": "stream",
     "text": [
      "[0.22543464]\n",
      "[[ 1.07172099e-03 -1.35654244e-01 -3.10365315e-01 -8.04243108e-02\n",
      "   4.94017893e-02  1.97168296e-02  1.13292540e-03 -1.45638687e-04]]\n"
     ]
    }
   ],
   "source": [
    "#To retrieve the intercept:\n",
    "print(regressor.intercept_)\n",
    "\n",
    "#For retrieving the slope:\n",
    "print(regressor.coef_)"
   ]
  },
  {
   "cell_type": "code",
   "execution_count": 117,
   "metadata": {},
   "outputs": [],
   "source": [
    "y_pred = regressor.predict(X_test)"
   ]
  },
  {
   "cell_type": "code",
   "execution_count": 118,
   "metadata": {},
   "outputs": [
    {
     "name": "stdout",
     "output_type": "stream",
     "text": [
      "                                 OLS Regression Results                                \n",
      "=======================================================================================\n",
      "Dep. Variable:            is_canceled   R-squared (uncentered):                   0.491\n",
      "Model:                            OLS   Adj. R-squared (uncentered):              0.491\n",
      "Method:                 Least Squares   F-statistic:                              3728.\n",
      "Date:                Fri, 01 Jan 2021   Prob (F-statistic):                        0.00\n",
      "Time:                        19:09:22   Log-Likelihood:                         -18843.\n",
      "No. Observations:               30868   AIC:                                  3.770e+04\n",
      "Df Residuals:                   30860   BIC:                                  3.777e+04\n",
      "Df Model:                           8                                                  \n",
      "Covariance Type:            nonrobust                                                  \n",
      "===============================================================================================\n",
      "                                  coef    std err          t      P>|t|      [0.025      0.975]\n",
      "-----------------------------------------------------------------------------------------------\n",
      "lead_time                       0.0012   2.38e-05     48.745      0.000       0.001       0.001\n",
      "total_of_special_requests      -0.1353      0.003    -41.546      0.000      -0.142      -0.129\n",
      "required_car_parking_spaces    -0.3106      0.011    -27.396      0.000      -0.333      -0.288\n",
      "booking_changes                -0.0770      0.004    -18.897      0.000      -0.085      -0.069\n",
      "previous_cancellations          0.0612      0.004     16.583      0.000       0.054       0.068\n",
      "adults                          0.0986      0.004     25.507      0.000       0.091       0.106\n",
      "adr                             0.0014   5.49e-05     25.645      0.000       0.001       0.002\n",
      "arrival_date_day_of_month       0.0017      0.000      6.178      0.000       0.001       0.002\n",
      "==============================================================================\n",
      "Omnibus:                    27891.142   Durbin-Watson:                   1.992\n",
      "Prob(Omnibus):                  0.000   Jarque-Bera (JB):             2365.555\n",
      "Skew:                           0.315   Prob(JB):                         0.00\n",
      "Kurtosis:                       1.799   Cond. No.                         788.\n",
      "==============================================================================\n",
      "\n",
      "Warnings:\n",
      "[1] Standard Errors assume that the covariance matrix of the errors is correctly specified.\n"
     ]
    }
   ],
   "source": [
    "y = df1[['is_canceled']]\n",
    "X = df1[['lead_time', 'total_of_special_requests', 'required_car_parking_spaces', 'booking_changes', 'previous_cancellations',\n",
    "              'adults', 'adr','arrival_date_day_of_month']]\n",
    "\n",
    "X_train, X_test, y_train, y_test = train_test_split(X,y,test_size =.30,random_state=1234, stratify=y)\n",
    "\n",
    "model = sm.OLS(y_test, X_test).fit()\n",
    "y_pred = model.predict(X_train)\n",
    "print(model.summary())\n"
   ]
  },
  {
   "cell_type": "markdown",
   "metadata": {},
   "source": [
    "## Decision Tree"
   ]
  },
  {
   "cell_type": "code",
   "execution_count": 119,
   "metadata": {
    "scrolled": true
   },
   "outputs": [
    {
     "name": "stdout",
     "output_type": "stream",
     "text": [
      "\n",
      "Confusion Matrix \n",
      " [[15232  3588]\n",
      " [ 3376  8672]]\n",
      "\n",
      "Classification Report \n",
      "               precision    recall  f1-score   support\n",
      "\n",
      "           0       0.82      0.81      0.81     18820\n",
      "           1       0.71      0.72      0.71     12048\n",
      "\n",
      "    accuracy                           0.77     30868\n",
      "   macro avg       0.76      0.76      0.76     30868\n",
      "weighted avg       0.78      0.77      0.77     30868\n",
      "\n"
     ]
    }
   ],
   "source": [
    "# X = df1[['lead_time', 'total_of_special_requests', 'required_car_parking_spaces', 'booking_changes', 'previous_cancellations',\n",
    "#               'adults', 'adr','arrival_date_day_of_month']]\n",
    "# y = df1[[\"is_canceled\"]]\n",
    "\n",
    "# Split data; 25% test size from the combined dataset\n",
    "X_train, X_test, y_train, y_test = train_test_split(X,y,test_size =.30,random_state=1234, stratify=y)\n",
    "\n",
    "\n",
    "# Create a model (object) for classification\n",
    "dtm = DecisionTreeClassifier()\n",
    "# Build a decision tree\n",
    "dtm.fit(X_train, y_train)\n",
    "y_pred = dtm.predict(X_test)\n",
    "\n",
    "# Build a confusion matrix and show the Classification Report\n",
    "cm = metrics.confusion_matrix(y_test,y_pred)\n",
    "print('\\nConfusion Matrix','\\n',cm)\n",
    "print('\\nClassification Report','\\n',metrics.classification_report(y_test,y_pred))"
   ]
  },
  {
   "cell_type": "code",
   "execution_count": 120,
   "metadata": {},
   "outputs": [
    {
     "name": "stdout",
     "output_type": "stream",
     "text": [
      "Accuracy: 0.774394194635221\n",
      "F1 score: 0.7135099555701826\n",
      "Recall(Specificity): 0.7197875166002656\n",
      "Sensitivity :  0.8093517534537726\n",
      "Precision: 0.7073409461663948\n",
      "RMSE: 0.4749797946910785\n",
      "AUC: 0.7645696350270191\n"
     ]
    }
   ],
   "source": [
    "print_result(cm, y_test, y_pred)"
   ]
  },
  {
   "cell_type": "code",
   "execution_count": 121,
   "metadata": {},
   "outputs": [
    {
     "data": {
      "image/png": "[encoded data removed]",
      "text/plain": [
       "<Figure size 288x288 with 1 Axes>"
      ]
     },
     "metadata": {
      "needs_background": "light"
     },
     "output_type": "display_data"
    },
    {
     "name": "stdout",
     "output_type": "stream",
     "text": [
      "AUC: 0.7645696350270191\n"
     ]
    }
   ],
   "source": [
    "plot_roc(y_test, y_pred, 'ROC Curve for DT')"
   ]
  },
  {
   "cell_type": "markdown",
   "metadata": {},
   "source": [
    "## Naive Bayes"
   ]
  },
  {
   "cell_type": "code",
   "execution_count": 122,
   "metadata": {},
   "outputs": [
    {
     "name": "stderr",
     "output_type": "stream",
     "text": [
      "C:\\Users\\klee1\\anaconda3\\lib\\site-packages\\sklearn\\utils\\validation.py:72: DataConversionWarning: A column-vector y was passed when a 1d array was expected. Please change the shape of y to (n_samples, ), for example using ravel().\n",
      "  return f(**kwargs)\n"
     ]
    },
    {
     "name": "stdout",
     "output_type": "stream",
     "text": [
      "              precision    recall  f1-score   support\n",
      "\n",
      "           0       0.88      0.17      0.29     18820\n",
      "           1       0.43      0.96      0.59     12048\n",
      "\n",
      "    accuracy                           0.48     30868\n",
      "   macro avg       0.65      0.57      0.44     30868\n",
      "weighted avg       0.70      0.48      0.41     30868\n",
      "\n"
     ]
    }
   ],
   "source": [
    "# X = df1[['lead_time', 'total_of_special_requests', 'required_car_parking_spaces', 'booking_changes', 'previous_cancellations',\n",
    "#               'adults', 'adr','arrival_date_day_of_month']]\n",
    "# y = df1[[\"is_canceled\"]]\n",
    "\n",
    "# Create NB model\n",
    "gnb = GaussianNB()\n",
    "gnb.fit(X_train, y_train)\n",
    "y_pred = gnb.predict(X_test)\n",
    "# Build a confusion matrix\n",
    "cm = metrics.confusion_matrix(y_test,y_pred)\n",
    "print(metrics.classification_report(y_test,y_pred))"
   ]
  },
  {
   "cell_type": "code",
   "execution_count": 123,
   "metadata": {},
   "outputs": [
    {
     "name": "stdout",
     "output_type": "stream",
     "text": [
      "Accuracy: 0.48098354282752365\n",
      "F1 score: 0.5911654375175441\n",
      "Recall(Specificity): 0.9614043824701195\n",
      "Sensitivity :  0.173432518597237\n",
      "Precision: 0.42680275618114155\n",
      "RMSE: 0.720427968066535\n",
      "AUC: 0.5674184505336782\n"
     ]
    }
   ],
   "source": [
    "print_result(cm, y_test, y_pred)"
   ]
  },
  {
   "cell_type": "code",
   "execution_count": 124,
   "metadata": {},
   "outputs": [
    {
     "data": {
      "image/png": "[encoded data removed]",
      "text/plain": [
       "<Figure size 288x288 with 1 Axes>"
      ]
     },
     "metadata": {
      "needs_background": "light"
     },
     "output_type": "display_data"
    },
    {
     "name": "stdout",
     "output_type": "stream",
     "text": [
      "AUC: 0.5674184505336782\n"
     ]
    }
   ],
   "source": [
    "plot_roc(y_test, y_pred, 'ROC Curve for NB')"
   ]
  },
  {
   "cell_type": "code",
   "execution_count": 125,
   "metadata": {},
   "outputs": [],
   "source": [
    "X_train, X_test = train_test_split(X, test_size =.2,random_state=1234)\n",
    "y_train, y_test = train_test_split(y, test_size=.2, random_state=1234)"
   ]
  },
  {
   "cell_type": "code",
   "execution_count": 126,
   "metadata": {},
   "outputs": [],
   "source": [
    "y_pred = dtm.predict(X_test)"
   ]
  },
  {
   "cell_type": "code",
   "execution_count": 127,
   "metadata": {},
   "outputs": [
    {
     "name": "stdout",
     "output_type": "stream",
     "text": [
      "\n",
      " **Evaluation of Errors**\n",
      " mse:  0.06871082171145343 \n",
      " rmse: 0.26212749133094265\n",
      " R^2:  0.9312891782885466\n"
     ]
    }
   ],
   "source": [
    "mse = metrics.mean_squared_error(y_test,y_pred)\n",
    "rmse = np.sqrt(metrics.mean_squared_error(y_test,y_pred))\n",
    "rsquared = dtm.score(X_test, y_test)\n",
    "print('\\n', '**Evaluation of Errors**')\n",
    "print (' mse: ', mse,'\\n','rmse:', rmse)\n",
    "print (' R^2: ', rsquared)"
   ]
  },
  {
   "cell_type": "code",
   "execution_count": 128,
   "metadata": {},
   "outputs": [
    {
     "data": {
      "text/plain": [
       "[Text(930.0, 1630.8, 'arrival_date_week_number <= 0.5\\ngini = 0.476\\nsamples = 72025\\nvalue = [43913, 28112]'),\n",
       " Text(465.0, 1268.4, 'lead_time <= 0.5\\ngini = 0.459\\nsamples = 68132\\nvalue = [43864, 24268]'),\n",
       " Text(232.5, 906.0, 'is_canceled <= 14.5\\ngini = 0.498\\nsamples = 37145\\nvalue = [19706, 17439]'),\n",
       " Text(116.25, 543.6000000000001, 'is_canceled <= 8.5\\ngini = 0.289\\nsamples = 6136\\nvalue = [5061, 1075]'),\n",
       " Text(58.125, 181.20000000000005, '\\n  (...)  \\n'),\n",
       " Text(174.375, 181.20000000000005, '\\n  (...)  \\n'),\n",
       " Text(348.75, 543.6000000000001, 'arrival_date_month <= 0.5\\ngini = 0.498\\nsamples = 31009\\nvalue = [14645, 16364]'),\n",
       " Text(290.625, 181.20000000000005, '\\n  (...)  \\n'),\n",
       " Text(406.875, 181.20000000000005, '\\n  (...)  \\n'),\n",
       " Text(697.5, 906.0, 'is_canceled <= 10.5\\ngini = 0.344\\nsamples = 30987\\nvalue = [24158, 6829]'),\n",
       " Text(581.25, 543.6000000000001, 'is_canceled <= 6.5\\ngini = 0.132\\nsamples = 5090\\nvalue = [4728, 362]'),\n",
       " Text(523.125, 181.20000000000005, '\\n  (...)  \\n'),\n",
       " Text(639.375, 181.20000000000005, '\\n  (...)  \\n'),\n",
       " Text(813.75, 543.6000000000001, 'arrival_date_year <= 0.5\\ngini = 0.375\\nsamples = 25897\\nvalue = [19430, 6467]'),\n",
       " Text(755.625, 181.20000000000005, '\\n  (...)  \\n'),\n",
       " Text(871.875, 181.20000000000005, '\\n  (...)  \\n'),\n",
       " Text(1395.0, 1268.4, 'is_canceled <= 2.5\\ngini = 0.025\\nsamples = 3893\\nvalue = [49, 3844]'),\n",
       " Text(1162.5, 906.0, 'stays_in_weekend_nights <= 92.05\\ngini = 0.375\\nsamples = 48\\nvalue = [36, 12]'),\n",
       " Text(1046.25, 543.6000000000001, 'stays_in_weekend_nights <= 34.2\\ngini = 0.102\\nsamples = 37\\nvalue = [35, 2]'),\n",
       " Text(988.125, 181.20000000000005, '\\n  (...)  \\n'),\n",
       " Text(1104.375, 181.20000000000005, '\\n  (...)  \\n'),\n",
       " Text(1278.75, 543.6000000000001, 'arrival_date_week_number <= 6.0\\ngini = 0.165\\nsamples = 11\\nvalue = [1, 10]'),\n",
       " Text(1220.625, 181.20000000000005, '\\n  (...)  \\n'),\n",
       " Text(1336.875, 181.20000000000005, '\\n  (...)  \\n'),\n",
       " Text(1627.5, 906.0, 'is_canceled <= 4.5\\ngini = 0.007\\nsamples = 3845\\nvalue = [13, 3832]'),\n",
       " Text(1511.25, 543.6000000000001, 'stays_in_week_nights <= 15.5\\ngini = 0.397\\nsamples = 11\\nvalue = [3, 8]'),\n",
       " Text(1453.125, 181.20000000000005, '\\n  (...)  \\n'),\n",
       " Text(1569.375, 181.20000000000005, '\\n  (...)  \\n'),\n",
       " Text(1743.75, 543.6000000000001, 'lead_time <= 3.5\\ngini = 0.005\\nsamples = 3834\\nvalue = [10, 3824]'),\n",
       " Text(1685.625, 181.20000000000005, '\\n  (...)  \\n'),\n",
       " Text(1801.875, 181.20000000000005, '\\n  (...)  \\n')]"
      ]
     },
     "execution_count": 128,
     "metadata": {},
     "output_type": "execute_result"
    },
    {
     "data": {
      "image/png": "[encoded data removed]",
      "text/plain": [
       "<Figure size 2400x2400 with 1 Axes>"
      ]
     },
     "metadata": {
      "needs_background": "light"
     },
     "output_type": "display_data"
    }
   ],
   "source": [
    "fig, axes = plt.subplots(nrows = 1,ncols = 1,figsize = (8,8), dpi=300)\n",
    "tree.plot_tree(dtm,feature_names=df_dummy.columns[:-1], max_depth=3)"
   ]
  },
  {
   "cell_type": "markdown",
   "metadata": {},
   "source": [
    "## Light GBM"
   ]
  },
  {
   "cell_type": "code",
   "execution_count": 129,
   "metadata": {},
   "outputs": [],
   "source": [
    "train_data = lgb.Dataset(X, label=y)"
   ]
  },
  {
   "cell_type": "code",
   "execution_count": 130,
   "metadata": {},
   "outputs": [],
   "source": [
    "param = {'num_leaves': 31, 'objective':'regression', 'metric': 'l2'}"
   ]
  },
  {
   "cell_type": "code",
   "execution_count": 131,
   "metadata": {},
   "outputs": [
    {
     "name": "stdout",
     "output_type": "stream",
     "text": [
      "[LightGBM] [Warning] Auto-choosing col-wise multi-threading, the overhead of testing was 0.013371 seconds.\n",
      "You can set `force_col_wise=true` to remove the overhead.\n",
      "[LightGBM] [Info] Total Bins 586\n",
      "[LightGBM] [Info] Number of data points in the train set: 102893, number of used features: 8\n",
      "[LightGBM] [Info] Start training from score 0.390308\n"
     ]
    }
   ],
   "source": [
    "num_round = 200\n",
    "bst = lgb.train(param, train_data, num_round, verbose_eval=1)"
   ]
  },
  {
   "cell_type": "code",
   "execution_count": 132,
   "metadata": {},
   "outputs": [
    {
     "data": {
      "text/plain": [
       "<lightgbm.basic.Booster at 0x21d51fa5f88>"
      ]
     },
     "execution_count": 132,
     "metadata": {},
     "output_type": "execute_result"
    }
   ],
   "source": [
    "bst"
   ]
  },
  {
   "cell_type": "code",
   "execution_count": 133,
   "metadata": {},
   "outputs": [
    {
     "data": {
      "text/plain": [
       "<AxesSubplot:title={'center':'Feature importance'}, xlabel='Feature importance', ylabel='Features'>"
      ]
     },
     "execution_count": 133,
     "metadata": {},
     "output_type": "execute_result"
    },
    {
     "data": {
      "image/png": "[encoded data removed]",
      "text/plain": [
       "<Figure size 432x288 with 1 Axes>"
      ]
     },
     "metadata": {
      "needs_background": "light"
     },
     "output_type": "display_data"
    }
   ],
   "source": [
    "lgb.plot_importance(bst)"
   ]
  },
  {
   "cell_type": "code",
   "execution_count": 134,
   "metadata": {},
   "outputs": [
    {
     "name": "stderr",
     "output_type": "stream",
     "text": [
      "C:\\Users\\klee1\\anaconda3\\lib\\site-packages\\ipykernel_launcher.py:4: DataConversionWarning: A column-vector y was passed when a 1d array was expected. Please change the shape of y to (n_samples,), for example using ravel().\n",
      "  after removing the cwd from sys.path.\n"
     ]
    },
    {
     "name": "stdout",
     "output_type": "stream",
     "text": [
      "[0.32782524 0.0863996  0.02877068 0.03930688 0.05215648 0.01886711\n",
      " 0.30814236 0.13853166]\n"
     ]
    },
    {
     "data": {
      "text/plain": [
       "<function matplotlib.pyplot.show(close=None, block=None)>"
      ]
     },
     "execution_count": 134,
     "metadata": {},
     "output_type": "execute_result"
    },
    {
     "data": {
      "image/png": "[encoded data removed]",
      "text/plain": [
       "<Figure size 432x288 with 1 Axes>"
      ]
     },
     "metadata": {
      "needs_background": "light"
     },
     "output_type": "display_data"
    }
   ],
   "source": [
    "X_train, X_test = train_test_split(X, test_size =.2,random_state=1234)\n",
    "y_train, y_test = train_test_split(y, test_size=.2, random_state=1234)\n",
    "model = ExtraTreesClassifier()\n",
    "model.fit(X, y)\n",
    "print(model.feature_importances_)\n",
    "feat_importances = pd.Series(model.feature_importances_, index = X.columns)\n",
    "feat_importances.nlargest(10).plot(kind = 'barh')\n",
    "plt.show\n"
   ]
  },
  {
   "cell_type": "markdown",
   "metadata": {},
   "source": [
    "## Random Forest"
   ]
  },
  {
   "cell_type": "code",
   "execution_count": 135,
   "metadata": {},
   "outputs": [
    {
     "name": "stderr",
     "output_type": "stream",
     "text": [
      "C:\\Users\\klee1\\anaconda3\\lib\\site-packages\\ipykernel_launcher.py:2: DataConversionWarning: A column-vector y was passed when a 1d array was expected. Please change the shape of y to (n_samples,), for example using ravel().\n",
      "  \n"
     ]
    },
    {
     "name": "stdout",
     "output_type": "stream",
     "text": [
      "\n",
      "Confusion Matrix \n",
      " [[11151  1365]\n",
      " [ 2436  5627]]\n",
      "\n",
      "Classification Report \n",
      "               precision    recall  f1-score   support\n",
      "\n",
      "           0       0.82      0.89      0.85     12516\n",
      "           1       0.80      0.70      0.75      8063\n",
      "\n",
      "    accuracy                           0.82     20579\n",
      "   macro avg       0.81      0.79      0.80     20579\n",
      "weighted avg       0.81      0.82      0.81     20579\n",
      "\n"
     ]
    }
   ],
   "source": [
    "model = RandomForestClassifier()\n",
    "model.fit(X_train, y_train)\n",
    "y_pred = model.predict(X_test)\n",
    "\n",
    "# Build a confusion matrix and show the Classification Report\n",
    "cm = metrics.confusion_matrix(y_test,y_pred)\n",
    "print('\\nConfusion Matrix','\\n',cm)\n",
    "print('\\nClassification Report','\\n',metrics.classification_report(y_test,y_pred))"
   ]
  },
  {
   "cell_type": "code",
   "execution_count": 136,
   "metadata": {},
   "outputs": [
    {
     "name": "stdout",
     "output_type": "stream",
     "text": [
      "[0.33284482 0.08249656 0.02734333 0.03223189 0.0648469  0.01395865\n",
      " 0.30544761 0.14083024]\n"
     ]
    },
    {
     "data": {
      "text/plain": [
       "<function matplotlib.pyplot.show(close=None, block=None)>"
      ]
     },
     "execution_count": 136,
     "metadata": {},
     "output_type": "execute_result"
    },
    {
     "data": {
      "image/png": "[encoded data removed]",
      "text/plain": [
       "<Figure size 432x288 with 1 Axes>"
      ]
     },
     "metadata": {
      "needs_background": "light"
     },
     "output_type": "display_data"
    }
   ],
   "source": [
    "print(model.feature_importances_)\n",
    "feat_importances = pd.Series(model.feature_importances_, index = X.columns)\n",
    "feat_importances.nlargest(10).plot(kind = 'barh')\n",
    "plt.show"
   ]
  },
  {
   "cell_type": "code",
   "execution_count": 137,
   "metadata": {},
   "outputs": [
    {
     "name": "stdout",
     "output_type": "stream",
     "text": [
      "Accuracy: 0.8152971475776277\n",
      "F1 score: 0.7475257389571571\n",
      "Recall(Specificity): 0.6978792012898425\n",
      "Sensitivity :  0.8909395973154363\n",
      "Precision: 0.8047768878718535\n",
      "RMSE: 0.4297706974915488\n",
      "AUC: 0.7944093993026394\n"
     ]
    }
   ],
   "source": [
    "print_result(cm, y_test, y_pred)"
   ]
  },
  {
   "cell_type": "code",
   "execution_count": 138,
   "metadata": {},
   "outputs": [
    {
     "data": {
      "image/png": "[encoded data removed]",
      "text/plain": [
       "<Figure size 288x288 with 1 Axes>"
      ]
     },
     "metadata": {
      "needs_background": "light"
     },
     "output_type": "display_data"
    },
    {
     "name": "stdout",
     "output_type": "stream",
     "text": [
      "AUC: 0.7944093993026394\n"
     ]
    }
   ],
   "source": [
    "plot_roc(y_test, y_pred, 'ROC Curve for RF')"
   ]
  },
  {
   "cell_type": "code",
   "execution_count": 146,
   "metadata": {},
   "outputs": [],
   "source": [
    "from sklearn.model_selection import cross_validate, RepeatedStratifiedKFold\n"
   ]
  },
  {
   "cell_type": "code",
   "execution_count": 147,
   "metadata": {},
   "outputs": [
    {
     "name": "stderr",
     "output_type": "stream",
     "text": [
      "[Parallel(n_jobs=1)]: Using backend SequentialBackend with 1 concurrent workers.\n"
     ]
    },
    {
     "name": "stdout",
     "output_type": "stream",
     "text": [
      "[CV]  ................................................................\n",
      "[CV] ................................................. , total=  18.3s\n",
      "[CV]  ................................................................\n"
     ]
    },
    {
     "name": "stderr",
     "output_type": "stream",
     "text": [
      "[Parallel(n_jobs=1)]: Done   1 out of   1 | elapsed:   18.2s remaining:    0.0s\n"
     ]
    },
    {
     "name": "stdout",
     "output_type": "stream",
     "text": [
      "[CV] ................................................. , total=  11.6s\n",
      "[CV]  ................................................................\n",
      "[CV] ................................................. , total=  12.2s\n",
      "[CV]  ................................................................\n",
      "[CV] ................................................. , total=  12.2s\n",
      "[CV]  ................................................................\n",
      "[CV] ................................................. , total=  14.3s\n",
      "[CV]  ................................................................\n",
      "[CV] ................................................. , total=  13.2s\n",
      "[CV]  ................................................................\n",
      "[CV] ................................................. , total=  12.5s\n",
      "[CV]  ................................................................\n",
      "[CV] ................................................. , total=  11.6s\n",
      "[CV]  ................................................................\n",
      "[CV] ................................................. , total=  12.0s\n",
      "[CV]  ................................................................\n",
      "[CV] ................................................. , total=  11.7s\n",
      "{'fit_time': array([17.03336525, 10.6203115 , 10.85467482, 11.05425763, 13.09996486,\n",
      "       11.93157315, 11.15354085, 10.610461  , 10.7422483 , 10.49223518]), 'score_time': array([1.24738264, 1.02473521, 1.32489657, 1.098665  , 1.21849012,\n",
      "       1.24507284, 1.30774736, 0.98018241, 1.30641365, 1.22327209]), 'test_accuracy': array([0.81903883, 0.81286749, 0.81840711, 0.81864127, 0.81635727,\n",
      "       0.81573449, 0.81510277, 0.81607464, 0.81762076, 0.81567694]), 'test_precision': array([0.80648833, 0.79648277, 0.8078853 , 0.80565823, 0.80107603,\n",
      "       0.80216648, 0.80414448, 0.80426995, 0.80386309, 0.79672407]), 'test_roc_auc': array([0.89020323, 0.88785529, 0.88856933, 0.89032082, 0.89048846,\n",
      "       0.89075247, 0.88819721, 0.88923679, 0.89030205, 0.89029962]), 'test_recall': array([0.70567729, 0.69920319, 0.70156873, 0.70555279, 0.70443227,\n",
      "       0.70069721, 0.69571713, 0.69882968, 0.70468127, 0.70854084]), 'test_f1': array([0.75272244, 0.74467944, 0.75098287, 0.75228992, 0.7496522 ,\n",
      "       0.74800638, 0.74601161, 0.74785158, 0.75101174, 0.75004942])}\n"
     ]
    },
    {
     "name": "stderr",
     "output_type": "stream",
     "text": [
      "[Parallel(n_jobs=1)]: Done  10 out of  10 | elapsed:  2.2min finished\n"
     ]
    }
   ],
   "source": [
    "model = RandomForestClassifier(n_jobs = 3)\n",
    "rskf = RepeatedStratifiedKFold(n_splits = 5, n_repeats = 2, random_state = 3)\n",
    "result = cross_validate(model, X, y.is_canceled,  scoring = ['accuracy', 'precision', 'roc_auc', 'recall', 'f1' ] ,cv = rskf, verbose = 2, n_jobs = 1 )\n",
    "print(result)"
   ]
  },
  {
   "cell_type": "code",
   "execution_count": 151,
   "metadata": {},
   "outputs": [],
   "source": [
    "result = pd.DataFrame(result)"
   ]
  },
  {
   "cell_type": "code",
   "execution_count": 153,
   "metadata": {},
   "outputs": [
    {
     "data": {
      "text/html": [
       "<div>\n",
       "<style scoped>\n",
       "    .dataframe tbody tr th:only-of-type {\n",
       "        vertical-align: middle;\n",
       "    }\n",
       "\n",
       "    .dataframe tbody tr th {\n",
       "        vertical-align: top;\n",
       "    }\n",
       "\n",
       "    .dataframe thead th {\n",
       "        text-align: right;\n",
       "    }\n",
       "</style>\n",
       "<table border=\"1\" class=\"dataframe\">\n",
       "  <thead>\n",
       "    <tr style=\"text-align: right;\">\n",
       "      <th></th>\n",
       "      <th>fit_time</th>\n",
       "      <th>score_time</th>\n",
       "      <th>test_accuracy</th>\n",
       "      <th>test_precision</th>\n",
       "      <th>test_roc_auc</th>\n",
       "      <th>test_recall</th>\n",
       "      <th>test_f1</th>\n",
       "    </tr>\n",
       "  </thead>\n",
       "  <tbody>\n",
       "    <tr>\n",
       "      <th>0</th>\n",
       "      <td>17.033365</td>\n",
       "      <td>1.247383</td>\n",
       "      <td>0.819039</td>\n",
       "      <td>0.806488</td>\n",
       "      <td>0.890203</td>\n",
       "      <td>0.705677</td>\n",
       "      <td>0.752722</td>\n",
       "    </tr>\n",
       "    <tr>\n",
       "      <th>1</th>\n",
       "      <td>10.620311</td>\n",
       "      <td>1.024735</td>\n",
       "      <td>0.812867</td>\n",
       "      <td>0.796483</td>\n",
       "      <td>0.887855</td>\n",
       "      <td>0.699203</td>\n",
       "      <td>0.744679</td>\n",
       "    </tr>\n",
       "    <tr>\n",
       "      <th>2</th>\n",
       "      <td>10.854675</td>\n",
       "      <td>1.324897</td>\n",
       "      <td>0.818407</td>\n",
       "      <td>0.807885</td>\n",
       "      <td>0.888569</td>\n",
       "      <td>0.701569</td>\n",
       "      <td>0.750983</td>\n",
       "    </tr>\n",
       "    <tr>\n",
       "      <th>3</th>\n",
       "      <td>11.054258</td>\n",
       "      <td>1.098665</td>\n",
       "      <td>0.818641</td>\n",
       "      <td>0.805658</td>\n",
       "      <td>0.890321</td>\n",
       "      <td>0.705553</td>\n",
       "      <td>0.752290</td>\n",
       "    </tr>\n",
       "    <tr>\n",
       "      <th>4</th>\n",
       "      <td>13.099965</td>\n",
       "      <td>1.218490</td>\n",
       "      <td>0.816357</td>\n",
       "      <td>0.801076</td>\n",
       "      <td>0.890488</td>\n",
       "      <td>0.704432</td>\n",
       "      <td>0.749652</td>\n",
       "    </tr>\n",
       "    <tr>\n",
       "      <th>5</th>\n",
       "      <td>11.931573</td>\n",
       "      <td>1.245073</td>\n",
       "      <td>0.815734</td>\n",
       "      <td>0.802166</td>\n",
       "      <td>0.890752</td>\n",
       "      <td>0.700697</td>\n",
       "      <td>0.748006</td>\n",
       "    </tr>\n",
       "    <tr>\n",
       "      <th>6</th>\n",
       "      <td>11.153541</td>\n",
       "      <td>1.307747</td>\n",
       "      <td>0.815103</td>\n",
       "      <td>0.804144</td>\n",
       "      <td>0.888197</td>\n",
       "      <td>0.695717</td>\n",
       "      <td>0.746012</td>\n",
       "    </tr>\n",
       "    <tr>\n",
       "      <th>7</th>\n",
       "      <td>10.610461</td>\n",
       "      <td>0.980182</td>\n",
       "      <td>0.816075</td>\n",
       "      <td>0.804270</td>\n",
       "      <td>0.889237</td>\n",
       "      <td>0.698830</td>\n",
       "      <td>0.747852</td>\n",
       "    </tr>\n",
       "    <tr>\n",
       "      <th>8</th>\n",
       "      <td>10.742248</td>\n",
       "      <td>1.306414</td>\n",
       "      <td>0.817621</td>\n",
       "      <td>0.803863</td>\n",
       "      <td>0.890302</td>\n",
       "      <td>0.704681</td>\n",
       "      <td>0.751012</td>\n",
       "    </tr>\n",
       "    <tr>\n",
       "      <th>9</th>\n",
       "      <td>10.492235</td>\n",
       "      <td>1.223272</td>\n",
       "      <td>0.815677</td>\n",
       "      <td>0.796724</td>\n",
       "      <td>0.890300</td>\n",
       "      <td>0.708541</td>\n",
       "      <td>0.750049</td>\n",
       "    </tr>\n",
       "  </tbody>\n",
       "</table>\n",
       "</div>"
      ],
      "text/plain": [
       "    fit_time  score_time  test_accuracy  test_precision  test_roc_auc  \\\n",
       "0  17.033365    1.247383       0.819039        0.806488      0.890203   \n",
       "1  10.620311    1.024735       0.812867        0.796483      0.887855   \n",
       "2  10.854675    1.324897       0.818407        0.807885      0.888569   \n",
       "3  11.054258    1.098665       0.818641        0.805658      0.890321   \n",
       "4  13.099965    1.218490       0.816357        0.801076      0.890488   \n",
       "5  11.931573    1.245073       0.815734        0.802166      0.890752   \n",
       "6  11.153541    1.307747       0.815103        0.804144      0.888197   \n",
       "7  10.610461    0.980182       0.816075        0.804270      0.889237   \n",
       "8  10.742248    1.306414       0.817621        0.803863      0.890302   \n",
       "9  10.492235    1.223272       0.815677        0.796724      0.890300   \n",
       "\n",
       "   test_recall   test_f1  \n",
       "0     0.705677  0.752722  \n",
       "1     0.699203  0.744679  \n",
       "2     0.701569  0.750983  \n",
       "3     0.705553  0.752290  \n",
       "4     0.704432  0.749652  \n",
       "5     0.700697  0.748006  \n",
       "6     0.695717  0.746012  \n",
       "7     0.698830  0.747852  \n",
       "8     0.704681  0.751012  \n",
       "9     0.708541  0.750049  "
      ]
     },
     "execution_count": 153,
     "metadata": {},
     "output_type": "execute_result"
    }
   ],
   "source": [
    "result"
   ]
  },
  {
   "cell_type": "code",
   "execution_count": 152,
   "metadata": {},
   "outputs": [
    {
     "data": {
      "text/plain": [
       "fit_time          11.759263\n",
       "score_time         1.197686\n",
       "test_accuracy      0.816552\n",
       "test_precision     0.802876\n",
       "test_roc_auc       0.889623\n",
       "test_recall        0.702490\n",
       "test_f1            0.749326\n",
       "dtype: float64"
      ]
     },
     "execution_count": 152,
     "metadata": {},
     "output_type": "execute_result"
    }
   ],
   "source": [
    "result.mean()"
   ]
  }
 ],
 "metadata": {
  "kernelspec": {
   "display_name": "Python 3",
   "language": "python",
   "name": "python3"
  },
  "language_info": {
   "codemirror_mode": {
    "name": "ipython",
    "version": 3
   },
   "file_extension": ".py",
   "mimetype": "text/x-python",
   "name": "python",
   "nbconvert_exporter": "python",
   "pygments_lexer": "ipython3",
   "version": "3.7.6"
  }
 },
 "nbformat": 4,
 "nbformat_minor": 4
}
